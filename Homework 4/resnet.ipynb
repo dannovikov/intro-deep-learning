{
 "cells": [
  {
   "cell_type": "code",
   "execution_count": null,
   "id": "e142538d-4cd0-4f48-bf3a-9f43f8276d63",
   "metadata": {},
   "outputs": [],
   "source": [
    "'''\n",
    "After trying my AlexNet implementation, which achieved 70% validation accuracy\n",
    "And after trying my own custom networks, which rarely exceeded 30% validation accuracy\n",
    "I decided to use the PyTorch RESNET model pretrained on ImageNet as a transfer learning\n",
    "solution for the birds-400 classification problem. After 20 epochs, the network has a 90% val accuracy. \n",
    "'''"
   ]
  },
  {
   "cell_type": "code",
   "execution_count": 1,
   "id": "fce71074-1cf6-495f-83bc-c8f599ec673c",
   "metadata": {},
   "outputs": [],
   "source": [
    "import torch\n",
    "import torch.nn as nn\n",
    "import torch.nn.functional as F\n",
    "import torchvision.transforms as transforms\n",
    "from torchvision.datasets import ImageFolder\n",
    "from torch.utils.data.dataloader import DataLoader\n",
    "from datetime import datetime"
   ]
  },
  {
   "cell_type": "code",
   "execution_count": 2,
   "id": "ef9c9018-6e43-48bb-9ca7-4d3a34290298",
   "metadata": {},
   "outputs": [],
   "source": [
    "# Hyperparameters\n",
    "BATCH_SIZE = 512\n",
    "NUM_EPOCHS = 50\n",
    "LEARNING_RATE = 0.0001\n",
    "device = torch.device(\"cuda\" if torch.cuda.is_available() else \"cpu\")"
   ]
  },
  {
   "cell_type": "code",
   "execution_count": 3,
   "id": "eb0af6b0-4dba-4ff6-a8d4-8aa2749b135d",
   "metadata": {},
   "outputs": [],
   "source": [
    "def Accuracy(output, labels):\n",
    "    _, preds = torch.max(output, dim=1)\n",
    "    return torch.sum(preds == labels).item() / len(preds)"
   ]
  },
  {
   "cell_type": "code",
   "execution_count": 26,
   "id": "fef117e4-b05a-4711-a8f6-5e537747e9dc",
   "metadata": {},
   "outputs": [],
   "source": [
    "data_dir = './birds_400'\n",
    "trans = transforms.Compose([\n",
    "        transforms.ToTensor(),\n",
    "        transforms.Normalize(mean=[0.485, 0.456, 0.406], std =[0.229, 0.224, 0.225])\n",
    "])\n",
    "\n",
    "train_ds = ImageFolder(f'{data_dir}/train', transform=trans)\n",
    "test_ds  = ImageFolder(f'{data_dir}/test', transform=trans)\n",
    "valid_ds = ImageFolder(f'{data_dir}/valid', transform=trans)\n",
    "\n",
    "train_dl = DataLoader(train_ds, BATCH_SIZE, shuffle=True, num_workers=3, pin_memory=True)\n",
    "valid_dl = DataLoader(valid_ds, BATCH_SIZE, shuffle=False, num_workers=3, pin_memory=True)\n",
    "test_dl  = DataLoader(test_ds, 5, shuffle=False, num_workers=3, pin_memory=True)"
   ]
  },
  {
   "cell_type": "code",
   "execution_count": 5,
   "id": "a3dcda40-7d9f-4e59-a859-9f7e852d2a27",
   "metadata": {},
   "outputs": [
    {
     "name": "stderr",
     "output_type": "stream",
     "text": [
      "Using cache found in C:\\Users\\Dan/.cache\\torch\\hub\\pytorch_vision_v0.10.0\n"
     ]
    }
   ],
   "source": [
    "model = torch.hub.load('pytorch/vision:v0.10.0', 'resnet34', pretrained=True)"
   ]
  },
  {
   "cell_type": "code",
   "execution_count": 6,
   "id": "4cc92359-0351-4912-aec5-509c97f345b1",
   "metadata": {},
   "outputs": [],
   "source": [
    "for param in model.parameters():\n",
    "    param.requires_grad = False"
   ]
  },
  {
   "cell_type": "code",
   "execution_count": 7,
   "id": "317db932-5339-46bb-8020-b93a5c7c9fb6",
   "metadata": {},
   "outputs": [
    {
     "data": {
      "text/plain": [
       "Linear(in_features=512, out_features=1000, bias=True)"
      ]
     },
     "execution_count": 7,
     "metadata": {},
     "output_type": "execute_result"
    }
   ],
   "source": [
    "model.fc"
   ]
  },
  {
   "cell_type": "code",
   "execution_count": 8,
   "id": "1650b265-c997-4034-b5cc-c902ea8c738b",
   "metadata": {},
   "outputs": [],
   "source": [
    "model.fc = nn.Linear(in_features=512, out_features=400)"
   ]
  },
  {
   "cell_type": "code",
   "execution_count": 9,
   "id": "db678cee-67a7-45d0-854a-81ec0d9a299d",
   "metadata": {},
   "outputs": [],
   "source": [
    "model.to(device)\n",
    "loss_fn = nn.CrossEntropyLoss()\n",
    "optimizer = torch.optim.Adam(model.parameters(), lr=LEARNING_RATE)\n",
    "scheduler = torch.optim.lr_scheduler.ReduceLROnPlateau(\n",
    "    optimizer,\n",
    "    mode=\"max\",\n",
    "    factor=0.1,\n",
    "    patience=0,\n",
    "    verbose=True\n",
    ")"
   ]
  },
  {
   "cell_type": "code",
   "execution_count": 10,
   "id": "c42174c7-cc26-40f3-a867-9df90b68c9da",
   "metadata": {},
   "outputs": [
    {
     "name": "stdout",
     "output_type": "stream",
     "text": [
      "Beginning training at  2022-03-27 17:30:59.965943\n",
      "Train loss: 5.757106105141018 Val loss: 5.325234532356262 Val Accuracy: 0.09361530172413793\n",
      "Train loss: 5.026408095981764 Val loss: 4.629322528839111 Val Accuracy: 0.3109341325431034\n",
      "Train loss: 4.396890461963156 Val loss: 4.029539525508881 Val Accuracy: 0.47592268318965514\n",
      "Train loss: 3.8469925092614217 Val loss: 3.491254210472107 Val Accuracy: 0.6066810344827587\n",
      "Train loss: 3.3785310061081595 Val loss: 3.035011887550354 Val Accuracy: 0.689874057112069\n",
      "Train loss: 2.9759619505509085 Val loss: 2.669651746749878 Val Accuracy: 0.7507071659482758\n",
      "Train loss: 2.6397704290307087 Val loss: 2.3300949335098267 Val Accuracy: 0.7893655711206897\n",
      "Train loss: 2.358997525339541 Val loss: 2.0813909769058228 Val Accuracy: 0.8116918103448276\n",
      "Train loss: 2.1194625906322315 Val loss: 1.8675052523612976 Val Accuracy: 0.8271821120689655\n",
      "Train loss: 1.921770655590555 Val loss: 1.6787795722484589 Val Accuracy: 0.83935546875\n",
      "Train loss: 1.753416917635047 Val loss: 1.5182991921901703 Val Accuracy: 0.8546942349137931\n",
      "Train loss: 1.612163057534591 Val loss: 1.387756884098053 Val Accuracy: 0.8637358566810345\n",
      "Train loss: 1.4899283761563509 Val loss: 1.28582102060318 Val Accuracy: 0.8707233297413793\n",
      "Train loss: 1.3891102065210756 Val loss: 1.1771698296070099 Val Accuracy: 0.8757576778017242\n",
      "Train loss: 1.2954375743865967 Val loss: 1.1017281115055084 Val Accuracy: 0.8861126077586207\n",
      "Train loss: 1.2204034535781196 Val loss: 1.037366271018982 Val Accuracy: 0.8896316002155172\n",
      "Train loss: 1.1482998412588368 Val loss: 0.9740553051233292 Val Accuracy: 0.8911469558189655\n",
      "Train loss: 1.087265994237817 Val loss: 0.9219973832368851 Val Accuracy: 0.9000370420258621\n",
      "Train loss: 1.0334022081416585 Val loss: 0.8647776395082474 Val Accuracy: 0.9005253232758621\n",
      "Train loss: 0.983709136299465 Epoch    20: reducing learning rate of group 0 to 1.0000e-05.\n",
      "Val loss: 0.8264496624469757 Val Accuracy: 0.8999865301724138\n",
      "Train loss: 0.9533076161923616 Val loss: 0.8187013268470764 Val Accuracy: 0.9024279364224138\n",
      "Train loss: 0.948341208955516 Epoch    22: reducing learning rate of group 0 to 1.0000e-06.\n",
      "Val loss: 0.8161413669586182 Val Accuracy: 0.9014008620689655\n",
      "Train loss: 0.9434387813443723 Val loss: 0.8098713755607605 Val Accuracy: 0.9034044989224138\n",
      "Train loss: 0.9406139508537624 Epoch    24: reducing learning rate of group 0 to 1.0000e-07.\n",
      "Val loss: 0.8095910251140594 Val Accuracy: 0.9029667295258621\n",
      "Train loss: 0.9451850435008173 Epoch    25: reducing learning rate of group 0 to 1.0000e-08.\n",
      "Val loss: 0.8181165158748627 Val Accuracy: 0.9015018857758621\n",
      "Train loss: 0.9387059424234473 Val loss: 0.8068565428256989 Val Accuracy: 0.9015018857758621\n",
      "Train loss: 0.9436521141425424 Val loss: 0.813054770231247 Val Accuracy: 0.9029162176724138\n",
      "Train loss: 0.9423286204752714 Val loss: 0.8192591816186905 Val Accuracy: 0.9049198545258621\n",
      "Train loss: 0.9426071218822314 Val loss: 0.8077856600284576 Val Accuracy: 0.9039938038793103\n",
      "Train loss: 0.9385377992754397 Val loss: 0.8019843846559525 Val Accuracy: 0.9038927801724138\n",
      "Train loss: 0.9433877556220345 Val loss: 0.8095051348209381 Val Accuracy: 0.9024279364224138\n",
      "Train loss: 0.9423555726590364 Val loss: 0.8116982728242874 Val Accuracy: 0.9039432920258621\n",
      "Train loss: 0.9451289290967195 Val loss: 0.810404360294342 Val Accuracy: 0.9029162176724138\n",
      "Train loss: 0.9420849463214045 Val loss: 0.8133324682712555 Val Accuracy: 0.9043810614224138\n",
      "Train loss: 0.9410336976465972 Val loss: 0.8129193186759949 Val Accuracy: 0.9044820851293103\n",
      "Train loss: 0.9388137081395025 Val loss: 0.8064605444669724 Val Accuracy: 0.9028657058189655\n",
      "Train loss: 0.9442205299501834 Val loss: 0.8171904534101486 Val Accuracy: 0.9029162176724138\n",
      "Train loss: 0.943161416053772 Val loss: 0.8096391409635544 Val Accuracy: 0.9029162176724138\n",
      "Train loss: 0.9415110847224359 Val loss: 0.8146627843379974 Val Accuracy: 0.9029667295258621\n",
      "Train loss: 0.9426108603892119 Val loss: 0.8071873486042023 Val Accuracy: 0.9034550107758621\n",
      "Train loss: 0.9402123648187388 Val loss: 0.813740685582161 Val Accuracy: 0.9020406788793103\n",
      "Train loss: 0.940472458238187 Val loss: 0.8141115456819534 Val Accuracy: 0.9039432920258621\n",
      "Train loss: 0.9414716829424319 Val loss: 0.8089973777532578 Val Accuracy: 0.9014513739224138\n",
      "Train loss: 0.9410091467525648 Val loss: 0.8161966949701309 Val Accuracy: 0.9029667295258621\n",
      "Train loss: 0.9412506108698637 Val loss: 0.8118873536586761 Val Accuracy: 0.9044315732758621\n",
      "Train loss: 0.945379074241804 Val loss: 0.8135219067335129 Val Accuracy: 0.9044315732758621\n",
      "Train loss: 0.9435797960861869 Val loss: 0.8064845204353333 Val Accuracy: 0.9039432920258621\n",
      "Train loss: 0.9370365645574487 Val loss: 0.8052542060613632 Val Accuracy: 0.9049703663793103\n",
      "Train loss: 0.9430635851362478 Val loss: 0.8106207698583603 Val Accuracy: 0.9039938038793103\n",
      "Train loss: 0.9408181382262188 Val loss: 0.8215761929750443 Val Accuracy: 0.9010641163793103\n",
      "Validation loss: 0.8215761929750443\n",
      "Validation Accuracy: 0.9010641163793103\n"
     ]
    }
   ],
   "source": [
    "# training\n",
    "print(\"Beginning training at \", datetime.now())\n",
    "history = []\n",
    "for epoch in range(NUM_EPOCHS):\n",
    "    model.train()\n",
    "    train_loss = 0\n",
    "    for batch_idx, (images, labels) in enumerate(train_dl):\n",
    "        print(f\"epoch {epoch+1}: {batch_idx}/{len(train_dl)}\\r\", end=\"\", flush=True)\n",
    "        images, labels = images.to(device), labels.to(device)\n",
    "        optimizer.zero_grad()\n",
    "        pred = model(images)\n",
    "        loss = loss_fn(pred, labels)\n",
    "        train_loss += loss.item()\n",
    "        loss.backward()\n",
    "        optimizer.step()\n",
    "    history.append(train_loss / (batch_idx + 1))\n",
    "    print(f\"Train loss: {history[-1]}\", end=\" \", flush=True)\n",
    "    model.eval()\n",
    "    with torch.no_grad():\n",
    "        val_loss, val_acc = 0, 0\n",
    "        for batch_idx, (images, labels) in enumerate(valid_dl):\n",
    "            images, labels = images.to(device), labels.to(device)\n",
    "            pred = model(images)\n",
    "            loss = loss_fn(pred, labels)\n",
    "            acc = Accuracy(pred, labels)\n",
    "            val_loss += loss.item()\n",
    "            val_acc += acc\n",
    "        val_loss /= batch_idx + 1\n",
    "        val_acc /= batch_idx + 1\n",
    "    scheduler.step(val_acc / (batch_idx + 1))\n",
    "    print(f\"Val loss: {val_loss} Val Accuracy: {val_acc}\", flush=True)\n",
    "\n",
    "print(f\"Validation loss: {val_loss}\\nValidation Accuracy: {val_acc}\")\n",
    "\n",
    "\n"
   ]
  },
  {
   "cell_type": "code",
   "execution_count": 11,
   "id": "c24f114e-4163-4163-9713-debe040b2f9f",
   "metadata": {},
   "outputs": [
    {
     "data": {
      "text/plain": [
       "[<matplotlib.lines.Line2D at 0x26a55c123d0>]"
      ]
     },
     "execution_count": 11,
     "metadata": {},
     "output_type": "execute_result"
    },
    {
     "data": {
      "image/png": "[encoded data removed]",
      "text/plain": [
       "<Figure size 432x288 with 1 Axes>"
      ]
     },
     "metadata": {
      "needs_background": "light"
     },
     "output_type": "display_data"
    }
   ],
   "source": [
    "import matplotlib.pyplot as plt\n",
    "plt.plot(history)"
   ]
  },
  {
   "cell_type": "code",
   "execution_count": 12,
   "id": "314e88e8-3d8b-4c10-b5fa-52021e96f8fa",
   "metadata": {},
   "outputs": [],
   "source": [
    "torch.save(model, 'resnet.model')"
   ]
  },
  {
   "cell_type": "code",
   "execution_count": 27,
   "id": "7c8bd4c4-2fc7-4815-b50b-ead247aea83f",
   "metadata": {},
   "outputs": [
    {
     "data": {
      "text/plain": [
       "<torch.utils.data.dataloader.DataLoader at 0x269b9952df0>"
      ]
     },
     "execution_count": 27,
     "metadata": {},
     "output_type": "execute_result"
    }
   ],
   "source": [
    "test_dl"
   ]
  },
  {
   "cell_type": "code",
   "execution_count": 70,
   "id": "ddcb1f89-4f7d-4261-8e7c-c43716deb0e4",
   "metadata": {},
   "outputs": [],
   "source": [
    "model.eval()\n",
    "loss_fn = nn.CrossEntropyLoss()\n",
    "class_log_loss = {}\n",
    "class_acc = []\n",
    "with torch.no_grad():\n",
    "    for batch_idx, (images, labels) in enumerate(test_dl):\n",
    "        images, labels = images.to(device), labels.to(device)\n",
    "        pred = model(images)\n",
    "        loss = loss_fn(pred, labels)\n",
    "        class_log_loss[f'{batch_idx}'] = loss.item()\n",
    "        class_acc.append(Accuracy(pred, labels))\n"
   ]
  },
  {
   "cell_type": "code",
   "execution_count": 71,
   "id": "cd963e26-e522-4268-ae31-772bb1ef8a6f",
   "metadata": {},
   "outputs": [
    {
     "data": {
      "text/plain": [
       "400"
      ]
     },
     "execution_count": 71,
     "metadata": {},
     "output_type": "execute_result"
    }
   ],
   "source": [
    "len(class_log_loss)"
   ]
  },
  {
   "cell_type": "code",
   "execution_count": 72,
   "id": "96cafe2a-0a80-478a-a1cb-cb5e471e5ca9",
   "metadata": {},
   "outputs": [],
   "source": [
    "import pandas as pd\n",
    "df = pd.DataFrame.from_dict(class_log_loss, orient='index')\n",
    "df['id'] = df.index\n",
    "df['birds'] = df[0]\n",
    "df = df.drop(0, axis=1)"
   ]
  },
  {
   "cell_type": "code",
   "execution_count": 73,
   "id": "3687c058-3b5a-4932-bc8d-da833304ea48",
   "metadata": {},
   "outputs": [
    {
     "data": {
      "text/html": [
       "<div>\n",
       "<style scoped>\n",
       "    .dataframe tbody tr th:only-of-type {\n",
       "        vertical-align: middle;\n",
       "    }\n",
       "\n",
       "    .dataframe tbody tr th {\n",
       "        vertical-align: top;\n",
       "    }\n",
       "\n",
       "    .dataframe thead th {\n",
       "        text-align: right;\n",
       "    }\n",
       "</style>\n",
       "<table border=\"1\" class=\"dataframe\">\n",
       "  <thead>\n",
       "    <tr style=\"text-align: right;\">\n",
       "      <th></th>\n",
       "      <th>id</th>\n",
       "      <th>birds</th>\n",
       "    </tr>\n",
       "  </thead>\n",
       "  <tbody>\n",
       "    <tr>\n",
       "      <th>0</th>\n",
       "      <td>0</td>\n",
       "      <td>2.757264</td>\n",
       "    </tr>\n",
       "    <tr>\n",
       "      <th>1</th>\n",
       "      <td>1</td>\n",
       "      <td>2.425234</td>\n",
       "    </tr>\n",
       "    <tr>\n",
       "      <th>2</th>\n",
       "      <td>2</td>\n",
       "      <td>0.559290</td>\n",
       "    </tr>\n",
       "    <tr>\n",
       "      <th>3</th>\n",
       "      <td>3</td>\n",
       "      <td>0.090832</td>\n",
       "    </tr>\n",
       "    <tr>\n",
       "      <th>4</th>\n",
       "      <td>4</td>\n",
       "      <td>1.994808</td>\n",
       "    </tr>\n",
       "    <tr>\n",
       "      <th>...</th>\n",
       "      <td>...</td>\n",
       "      <td>...</td>\n",
       "    </tr>\n",
       "    <tr>\n",
       "      <th>395</th>\n",
       "      <td>395</td>\n",
       "      <td>0.171569</td>\n",
       "    </tr>\n",
       "    <tr>\n",
       "      <th>396</th>\n",
       "      <td>396</td>\n",
       "      <td>0.255236</td>\n",
       "    </tr>\n",
       "    <tr>\n",
       "      <th>397</th>\n",
       "      <td>397</td>\n",
       "      <td>2.470835</td>\n",
       "    </tr>\n",
       "    <tr>\n",
       "      <th>398</th>\n",
       "      <td>398</td>\n",
       "      <td>0.813420</td>\n",
       "    </tr>\n",
       "    <tr>\n",
       "      <th>399</th>\n",
       "      <td>399</td>\n",
       "      <td>1.094905</td>\n",
       "    </tr>\n",
       "  </tbody>\n",
       "</table>\n",
       "<p>400 rows × 2 columns</p>\n",
       "</div>"
      ],
      "text/plain": [
       "      id     birds\n",
       "0      0  2.757264\n",
       "1      1  2.425234\n",
       "2      2  0.559290\n",
       "3      3  0.090832\n",
       "4      4  1.994808\n",
       "..   ...       ...\n",
       "395  395  0.171569\n",
       "396  396  0.255236\n",
       "397  397  2.470835\n",
       "398  398  0.813420\n",
       "399  399  1.094905\n",
       "\n",
       "[400 rows x 2 columns]"
      ]
     },
     "execution_count": 73,
     "metadata": {},
     "output_type": "execute_result"
    }
   ],
   "source": [
    "df"
   ]
  },
  {
   "cell_type": "code",
   "execution_count": 74,
   "id": "37bafcfd-a718-4754-8778-fc251410aca7",
   "metadata": {},
   "outputs": [],
   "source": [
    "df.to_csv('submission.csv', index=False)"
   ]
  },
  {
   "cell_type": "code",
   "execution_count": null,
   "id": "e4bf1ca3-421d-4b6d-b6f4-7f70e10189ca",
   "metadata": {},
   "outputs": [],
   "source": []
  }
 ],
 "metadata": {
  "kernelspec": {
   "display_name": "Python 3 (ipykernel)",
   "language": "python",
   "name": "python3"
  },
  "language_info": {
   "codemirror_mode": {
    "name": "ipython",
    "version": 3
   },
   "file_extension": ".py",
   "mimetype": "text/x-python",
   "name": "python",
   "nbconvert_exporter": "python",
   "pygments_lexer": "ipython3",
   "version": "3.8.12"
  }
 },
 "nbformat": 4,
 "nbformat_minor": 5
}
