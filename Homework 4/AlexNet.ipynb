{
 "cells": [
  {
   "cell_type": "code",
   "execution_count": 1,
   "id": "855f34bb-ed1e-4161-936b-658da6219e3b",
   "metadata": {},
   "outputs": [
    {
     "data": {
      "text/plain": [
       "'\\nUsing AlexNet on the birds 400 dataset achieved 70% validation accuracy\\nBut I was able to achieve higher using resnet. \\n\\n'"
      ]
     },
     "execution_count": 1,
     "metadata": {},
     "output_type": "execute_result"
    }
   ],
   "source": [
    "'''\n",
    "Using AlexNet on the birds 400 dataset achieved 75% validation accuracy\n",
    "'''"
   ]
  },
  {
   "cell_type": "code",
   "execution_count": 2,
   "id": "4d0ce243-69c6-46b1-996c-d40d8de24717",
   "metadata": {},
   "outputs": [],
   "source": [
    "import torch\n",
    "import torch.nn as nn\n",
    "import torch.nn.functional as F\n",
    "from torchvision.datasets import ImageFolder\n",
    "import torchvision.transforms as transforms\n",
    "from torch.utils.data.dataloader import DataLoader\n",
    "from datetime import datetime"
   ]
  },
  {
   "cell_type": "code",
   "execution_count": 3,
   "id": "22885eeb-3bac-4e7f-afe3-3bf481b4bef9",
   "metadata": {},
   "outputs": [],
   "source": [
    "# Hyperparameters\n",
    "BATCH_SIZE = 50\n",
    "NUM_EPOCHS = 10\n",
    "LEARNING_RATE = 0.0001\n",
    "device = torch.device(\"cuda\" if torch.cuda.is_available() else \"cpu\")"
   ]
  },
  {
   "cell_type": "code",
   "execution_count": 4,
   "id": "b1111d1a-b06a-4b13-87b7-a18df8acff9c",
   "metadata": {},
   "outputs": [],
   "source": [
    "def accuracy(output, labels):\n",
    "    _, preds = torch.max(output, dim=1)\n",
    "    return torch.sum(preds == labels).item() / len(preds)"
   ]
  },
  {
   "cell_type": "code",
   "execution_count": 5,
   "id": "b1d23bf4-cfd5-4b89-8b7c-b097ba24ba5c",
   "metadata": {},
   "outputs": [],
   "source": [
    "# Data\n",
    "trans = transforms.Compose(\n",
    "    [\n",
    "        transforms.ToTensor(),\n",
    "    ]\n",
    ")\n",
    "\n",
    "data_dir = './birds_400'\n",
    "\n",
    "train_ds = ImageFolder(f'{data_dir}/train', transform=trans)\n",
    "test_ds  = ImageFolder(f'{data_dir}/test', transform=trans)\n",
    "valid_ds = ImageFolder(f'{data_dir}/valid', transform=trans)\n",
    "\n",
    "train_dl = DataLoader(train_ds, BATCH_SIZE, shuffle=True, num_workers=3, pin_memory=True)\n",
    "test_dl  = DataLoader(test_ds, BATCH_SIZE, shuffle=False, num_workers=3, pin_memory=True)\n",
    "valid_dl = DataLoader(valid_ds, BATCH_SIZE, shuffle=False, num_workers=3, pin_memory=True)"
   ]
  },
  {
   "cell_type": "code",
   "execution_count": 6,
   "id": "0197b91e-5612-48d3-81bd-676bbe68db5d",
   "metadata": {},
   "outputs": [
    {
     "data": {
      "text/plain": [
       "torch.Size([3, 224, 224])"
      ]
     },
     "execution_count": 6,
     "metadata": {},
     "output_type": "execute_result"
    }
   ],
   "source": [
    "train_ds[0][0].shape"
   ]
  },
  {
   "cell_type": "code",
   "execution_count": 7,
   "id": "001abc05-cc53-48e1-8b57-d1eac45f706c",
   "metadata": {},
   "outputs": [],
   "source": [
    "# Baseline model: AlexNet \n",
    "class AlexNet(nn.Module):\n",
    "    def __init__(self, num_classes):\n",
    "        super().__init__()\n",
    "        self.features = nn.Sequential(\n",
    "            nn.Conv2d(in_channels=3,out_channels=96,kernel_size=11,stride=4,padding=2),\n",
    "            nn.ReLU(inplace=True),\n",
    "            nn.LocalResponseNorm(size=5, alpha=10e-4, beta=0.75, k=2),\n",
    "            nn.MaxPool2d(kernel_size=3, stride=2),\n",
    "            nn.Conv2d(in_channels=96, out_channels=256, kernel_size=5, padding=2),\n",
    "            nn.ReLU(inplace=True),\n",
    "            nn.LocalResponseNorm(size=5, alpha=10e-4, beta=0.75, k=2),\n",
    "            nn.MaxPool2d(kernel_size=3, stride=2),\n",
    "            nn.Conv2d(in_channels=256, out_channels=384, kernel_size=3, padding=1),\n",
    "            nn.ReLU(inplace=True),\n",
    "            nn.Conv2d(in_channels=384, out_channels=384, kernel_size=3, padding=1),\n",
    "            nn.ReLU(inplace=True),\n",
    "            nn.Conv2d(in_channels=384, out_channels=256, kernel_size=3, padding=1),\n",
    "            nn.ReLU(inplace=True),\n",
    "            nn.MaxPool2d(kernel_size=3, stride=2),\n",
    "        )\n",
    "\n",
    "        self.avgpool = nn.AdaptiveAvgPool2d((6, 6))\n",
    "\n",
    "        self.classifier = nn.Sequential(\n",
    "            nn.Dropout(),\n",
    "            nn.Linear(9216, 4096),\n",
    "            nn.ReLU(),\n",
    "            nn.Dropout(),\n",
    "            nn.Linear(4096, 4096),\n",
    "            nn.ReLU(),\n",
    "            nn.Linear(4096, num_classes),\n",
    "        )\n",
    "\n",
    "    def forward(self, x):\n",
    "        x = self.features(x)\n",
    "        x = self.avgpool(x)\n",
    "        x = torch.flatten(x, 1)\n",
    "        logits = self.classifier(x)\n",
    "        return logits"
   ]
  },
  {
   "cell_type": "code",
   "execution_count": 8,
   "id": "3df97bb5-cb01-4b68-99ac-946a4f9ee3b7",
   "metadata": {},
   "outputs": [
    {
     "name": "stdout",
     "output_type": "stream",
     "text": [
      "Beginning training at  2022-03-27 23:35:48.667739\n",
      "epoch 1: Train loss: 5.369431053122429 Val loss: 4.480059081315995 Val accuracy: 0.08050000000000004\n",
      "epoch 2: Train loss: 4.078650680919216 Val loss: 3.163141483068466 Val accuracy: 0.27799999999999997\n",
      "epoch 3: Train loss: 3.0727870993009985 Val loss: 2.2020008713006973 Val accuracy: 0.4765\n",
      "epoch 4: Train loss: 2.3787315281694883 Val loss: 1.6188324242830276 Val accuracy: 0.5970000000000002\n",
      "epoch 5: Train loss: 1.9136983422587996 Val loss: 1.3381676390767097 Val accuracy: 0.6560000000000001\n",
      "epoch 6: Train loss: 1.590180278947092 Val loss: 1.2034113094210626 Val accuracy: 0.7055\n",
      "Model saved.\n",
      "epoch 7: Train loss: 1.3363480135186079 Val loss: 1.0673581667244434 Val accuracy: 0.7184999999999998\n",
      "epoch 8: Train loss: 1.1115457995042002 Val loss: 1.004493999108672 Val accuracy: 0.7370000000000002\n",
      "epoch 9: Train loss: 0.9412286529853328 Val loss: 1.0045940078794957 Val accuracy: 0.7479999999999999\n",
      "epoch 10: Train loss: 0.780557204752344 Val loss: 0.957925270497799 Val accuracy: 0.7510000000000001\n",
      "Training ended at  2022-03-27 23:53:24.926950\n",
      "Validation loss: 0.957925270497799\n",
      "Validation accuracy: 0.7510000000000001\n",
      "Model has been saved.\n"
     ]
    }
   ],
   "source": [
    "model = AlexNet(num_classes=400)\n",
    "model.to(device)\n",
    "loss_fn = nn.CrossEntropyLoss()\n",
    "optimizer = torch.optim.Adam(model.parameters(), lr=LEARNING_RATE)\n",
    "scheduler = torch.optim.lr_scheduler.ReduceLROnPlateau(\n",
    "    optimizer,\n",
    "    mode=\"max\",\n",
    "    factor=0.00001,\n",
    "    patience=2,\n",
    ")\n",
    "\n",
    "# training\n",
    "print(\"Beginning training at \", datetime.now())\n",
    "history = []\n",
    "for epoch in range(NUM_EPOCHS):\n",
    "    print(f\"epoch {epoch+1}: \", end=\"\", flush=True)\n",
    "    model.train()\n",
    "    train_loss = 0\n",
    "    for batch_idx, (images, labels) in enumerate(train_dl):\n",
    "        images, labels = images.to(device), labels.to(device)\n",
    "        optimizer.zero_grad()\n",
    "        pred = model(images)\n",
    "        loss = loss_fn(pred, labels)\n",
    "        train_loss += loss.item()\n",
    "        loss.backward()\n",
    "        optimizer.step()\n",
    "    history.append(train_loss / (batch_idx + 1))\n",
    "    print(f\"Train loss: {history[-1]}\", end=\" \", flush=True)\n",
    "    model.eval()\n",
    "    with torch.no_grad():\n",
    "        val_loss, val_acc = 0, 0\n",
    "        for batch_idx, (images, labels) in enumerate(valid_dl):\n",
    "            images, labels = images.to(device), labels.to(device)\n",
    "            pred = model(images)\n",
    "            loss = loss_fn(pred, labels)\n",
    "            acc = accuracy(pred, labels)\n",
    "            val_loss += loss.item()\n",
    "            val_acc += acc\n",
    "        val_loss /= batch_idx + 1\n",
    "        val_acc /= batch_idx + 1\n",
    "    scheduler.step(val_acc / (batch_idx + 1))\n",
    "    print(f\"Val loss: {val_loss} Val accuracy: {val_acc}\", flush=True)\n",
    "    if epoch and not (epoch % 5):\n",
    "        print(\"Model saved.\")\n",
    "        torch.save(model, \"./AlexNet_training.model\")\n",
    "print(\"Training ended at \", datetime.now())\n",
    "\n",
    "print(f\"Validation loss: {val_loss}\\nValidation accuracy: {val_acc}\")\n",
    "\n",
    "\n",
    "torch.save(model, \"./lrn_AlexNet.model\")\n",
    "print(\"Model has been saved.\")"
   ]
  },
  {
   "cell_type": "code",
   "execution_count": null,
   "id": "6e27a2b5-a58d-4ea5-8b3b-e951c1d535bf",
   "metadata": {},
   "outputs": [],
   "source": []
  },
  {
   "cell_type": "code",
   "execution_count": 9,
   "id": "23ec6015-0a4e-4de5-9c53-87e7f6c2ccbc",
   "metadata": {},
   "outputs": [
    {
     "data": {
      "text/plain": [
       "[<matplotlib.lines.Line2D at 0x15c6e533be0>]"
      ]
     },
     "execution_count": 9,
     "metadata": {},
     "output_type": "execute_result"
    },
    {
     "data": {
      "image/png": "[encoded data removed]",
      "text/plain": [
       "<Figure size 432x288 with 1 Axes>"
      ]
     },
     "metadata": {
      "needs_background": "light"
     },
     "output_type": "display_data"
    }
   ],
   "source": [
    "import matplotlib.pyplot as plt\n",
    "plt.plot(history)"
   ]
  },
  {
   "cell_type": "code",
   "execution_count": null,
   "id": "7e2eb6b9-d7d6-415c-8503-a89212afe8ae",
   "metadata": {},
   "outputs": [],
   "source": []
  },
  {
   "cell_type": "code",
   "execution_count": null,
   "id": "189b2b01-3072-46fe-a555-fc0b90c3898c",
   "metadata": {},
   "outputs": [],
   "source": []
  },
  {
   "cell_type": "code",
   "execution_count": null,
   "id": "e7f292b4-6a48-4d63-95db-a22d56c738ca",
   "metadata": {},
   "outputs": [],
   "source": []
  }
 ],
 "metadata": {
  "kernelspec": {
   "display_name": "Python 3 (ipykernel)",
   "language": "python",
   "name": "python3"
  },
  "language_info": {
   "codemirror_mode": {
    "name": "ipython",
    "version": 3
   },
   "file_extension": ".py",
   "mimetype": "text/x-python",
   "name": "python",
   "nbconvert_exporter": "python",
   "pygments_lexer": "ipython3",
   "version": "3.8.12"
  }
 },
 "nbformat": 4,
 "nbformat_minor": 5
}
