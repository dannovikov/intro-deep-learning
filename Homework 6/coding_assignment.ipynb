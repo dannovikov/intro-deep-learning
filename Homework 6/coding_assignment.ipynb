{
 "cells": [
  {
   "cell_type": "code",
   "execution_count": 1,
   "metadata": {
    "execution": {
     "iopub.execute_input": "2022-01-22T15:55:51.161763Z",
     "iopub.status.busy": "2022-01-22T15:55:51.161511Z",
     "iopub.status.idle": "2022-01-22T15:55:51.165623Z",
     "shell.execute_reply": "2022-01-22T15:55:51.164626Z",
     "shell.execute_reply.started": "2022-01-22T15:55:51.161734Z"
    }
   },
   "outputs": [],
   "source": [
    "import numpy as np\n",
    "import pandas as pd\n",
    "import torch\n",
    "import torch.nn.functional as F\n",
    "import torchtext\n",
    "import time\n",
    "import random\n",
    "import pandas as pd\n",
    "import spacy\n"
   ]
  },
  {
   "cell_type": "markdown",
   "metadata": {},
   "source": [
    "# Import Required Libraries & Data Loading"
   ]
  },
  {
   "cell_type": "code",
   "execution_count": 2,
   "metadata": {
    "execution": {
     "iopub.execute_input": "2022-01-22T15:55:51.178773Z",
     "iopub.status.busy": "2022-01-22T15:55:51.178323Z",
     "iopub.status.idle": "2022-01-22T15:55:52.913605Z",
     "shell.execute_reply": "2022-01-22T15:55:52.912893Z",
     "shell.execute_reply.started": "2022-01-22T15:55:51.178736Z"
    }
   },
   "outputs": [
    {
     "name": "stdout",
     "output_type": "stream",
     "text": [
      "(50000, 2)\n"
     ]
    },
    {
     "data": {
      "text/html": [
       "<div>\n",
       "<style scoped>\n",
       "    .dataframe tbody tr th:only-of-type {\n",
       "        vertical-align: middle;\n",
       "    }\n",
       "\n",
       "    .dataframe tbody tr th {\n",
       "        vertical-align: top;\n",
       "    }\n",
       "\n",
       "    .dataframe thead th {\n",
       "        text-align: right;\n",
       "    }\n",
       "</style>\n",
       "<table border=\"1\" class=\"dataframe\">\n",
       "  <thead>\n",
       "    <tr style=\"text-align: right;\">\n",
       "      <th></th>\n",
       "      <th>review</th>\n",
       "      <th>sentiment</th>\n",
       "    </tr>\n",
       "  </thead>\n",
       "  <tbody>\n",
       "    <tr>\n",
       "      <th>0</th>\n",
       "      <td>One of the other reviewers has mentioned that ...</td>\n",
       "      <td>positive</td>\n",
       "    </tr>\n",
       "    <tr>\n",
       "      <th>1</th>\n",
       "      <td>A wonderful little production. &lt;br /&gt;&lt;br /&gt;The...</td>\n",
       "      <td>positive</td>\n",
       "    </tr>\n",
       "    <tr>\n",
       "      <th>2</th>\n",
       "      <td>I thought this was a wonderful way to spend ti...</td>\n",
       "      <td>positive</td>\n",
       "    </tr>\n",
       "    <tr>\n",
       "      <th>3</th>\n",
       "      <td>Basically there's a family where a little boy ...</td>\n",
       "      <td>negative</td>\n",
       "    </tr>\n",
       "    <tr>\n",
       "      <th>4</th>\n",
       "      <td>Petter Mattei's \"Love in the Time of Money\" is...</td>\n",
       "      <td>positive</td>\n",
       "    </tr>\n",
       "    <tr>\n",
       "      <th>5</th>\n",
       "      <td>Probably my all-time favorite movie, a story o...</td>\n",
       "      <td>positive</td>\n",
       "    </tr>\n",
       "    <tr>\n",
       "      <th>6</th>\n",
       "      <td>I sure would like to see a resurrection of a u...</td>\n",
       "      <td>positive</td>\n",
       "    </tr>\n",
       "    <tr>\n",
       "      <th>7</th>\n",
       "      <td>This show was an amazing, fresh &amp; innovative i...</td>\n",
       "      <td>negative</td>\n",
       "    </tr>\n",
       "    <tr>\n",
       "      <th>8</th>\n",
       "      <td>Encouraged by the positive comments about this...</td>\n",
       "      <td>negative</td>\n",
       "    </tr>\n",
       "    <tr>\n",
       "      <th>9</th>\n",
       "      <td>If you like original gut wrenching laughter yo...</td>\n",
       "      <td>positive</td>\n",
       "    </tr>\n",
       "  </tbody>\n",
       "</table>\n",
       "</div>"
      ],
      "text/plain": [
       "                                              review sentiment\n",
       "0  One of the other reviewers has mentioned that ...  positive\n",
       "1  A wonderful little production. <br /><br />The...  positive\n",
       "2  I thought this was a wonderful way to spend ti...  positive\n",
       "3  Basically there's a family where a little boy ...  negative\n",
       "4  Petter Mattei's \"Love in the Time of Money\" is...  positive\n",
       "5  Probably my all-time favorite movie, a story o...  positive\n",
       "6  I sure would like to see a resurrection of a u...  positive\n",
       "7  This show was an amazing, fresh & innovative i...  negative\n",
       "8  Encouraged by the positive comments about this...  negative\n",
       "9  If you like original gut wrenching laughter yo...  positive"
      ]
     },
     "execution_count": 2,
     "metadata": {},
     "output_type": "execute_result"
    }
   ],
   "source": [
    "#importing the training data\n",
    "df=pd.read_csv('IMDB Dataset.csv')\n",
    "print(df.shape)\n",
    "df.head(10)"
   ]
  },
  {
   "cell_type": "markdown",
   "metadata": {},
   "source": [
    "# Data Preparation"
   ]
  },
  {
   "cell_type": "code",
   "execution_count": 3,
   "metadata": {
    "execution": {
     "iopub.execute_input": "2022-01-22T15:55:52.915240Z",
     "iopub.status.busy": "2022-01-22T15:55:52.914817Z",
     "iopub.status.idle": "2022-01-22T15:55:52.931074Z",
     "shell.execute_reply": "2022-01-22T15:55:52.930198Z",
     "shell.execute_reply.started": "2022-01-22T15:55:52.915202Z"
    }
   },
   "outputs": [],
   "source": [
    "\"\"\"\n",
    "sentiment : 0 = negative, 1 = positive \n",
    "use the following to get the sentiment of a sentence :  \n",
    "sentiment = 0 if sentiment is negative else 1\n",
    "\n",
    "\n",
    "use np.where to get the sentiment of a sentence :\n",
    "\"\"\"\n",
    "df['sentiment'] = np.where(df['sentiment'] == 'positive', 1, 0)"
   ]
  },
  {
   "cell_type": "code",
   "execution_count": 4,
   "metadata": {
    "execution": {
     "iopub.execute_input": "2022-01-22T15:55:52.933556Z",
     "iopub.status.busy": "2022-01-22T15:55:52.933295Z",
     "iopub.status.idle": "2022-01-22T15:55:52.942961Z",
     "shell.execute_reply": "2022-01-22T15:55:52.942162Z",
     "shell.execute_reply.started": "2022-01-22T15:55:52.933524Z"
    }
   },
   "outputs": [
    {
     "data": {
      "text/html": [
       "<div>\n",
       "<style scoped>\n",
       "    .dataframe tbody tr th:only-of-type {\n",
       "        vertical-align: middle;\n",
       "    }\n",
       "\n",
       "    .dataframe tbody tr th {\n",
       "        vertical-align: top;\n",
       "    }\n",
       "\n",
       "    .dataframe thead th {\n",
       "        text-align: right;\n",
       "    }\n",
       "</style>\n",
       "<table border=\"1\" class=\"dataframe\">\n",
       "  <thead>\n",
       "    <tr style=\"text-align: right;\">\n",
       "      <th></th>\n",
       "      <th>review</th>\n",
       "      <th>sentiment</th>\n",
       "    </tr>\n",
       "  </thead>\n",
       "  <tbody>\n",
       "    <tr>\n",
       "      <th>0</th>\n",
       "      <td>One of the other reviewers has mentioned that ...</td>\n",
       "      <td>1</td>\n",
       "    </tr>\n",
       "    <tr>\n",
       "      <th>1</th>\n",
       "      <td>A wonderful little production. &lt;br /&gt;&lt;br /&gt;The...</td>\n",
       "      <td>1</td>\n",
       "    </tr>\n",
       "    <tr>\n",
       "      <th>2</th>\n",
       "      <td>I thought this was a wonderful way to spend ti...</td>\n",
       "      <td>1</td>\n",
       "    </tr>\n",
       "    <tr>\n",
       "      <th>3</th>\n",
       "      <td>Basically there's a family where a little boy ...</td>\n",
       "      <td>0</td>\n",
       "    </tr>\n",
       "    <tr>\n",
       "      <th>4</th>\n",
       "      <td>Petter Mattei's \"Love in the Time of Money\" is...</td>\n",
       "      <td>1</td>\n",
       "    </tr>\n",
       "  </tbody>\n",
       "</table>\n",
       "</div>"
      ],
      "text/plain": [
       "                                              review  sentiment\n",
       "0  One of the other reviewers has mentioned that ...          1\n",
       "1  A wonderful little production. <br /><br />The...          1\n",
       "2  I thought this was a wonderful way to spend ti...          1\n",
       "3  Basically there's a family where a little boy ...          0\n",
       "4  Petter Mattei's \"Love in the Time of Money\" is...          1"
      ]
     },
     "execution_count": 4,
     "metadata": {},
     "output_type": "execute_result"
    }
   ],
   "source": [
    "df.head()"
   ]
  },
  {
   "cell_type": "code",
   "execution_count": 5,
   "metadata": {
    "execution": {
     "iopub.execute_input": "2022-01-22T15:55:52.944777Z",
     "iopub.status.busy": "2022-01-22T15:55:52.944484Z",
     "iopub.status.idle": "2022-01-22T15:55:52.951178Z",
     "shell.execute_reply": "2022-01-22T15:55:52.950461Z",
     "shell.execute_reply.started": "2022-01-22T15:55:52.944743Z"
    }
   },
   "outputs": [],
   "source": [
    "df.columns = ['TEXT_COLUMN_NAME', 'LABEL_COLUMN_NAME']"
   ]
  },
  {
   "cell_type": "code",
   "execution_count": 6,
   "metadata": {
    "execution": {
     "iopub.execute_input": "2022-01-22T15:55:52.953080Z",
     "iopub.status.busy": "2022-01-22T15:55:52.952741Z",
     "iopub.status.idle": "2022-01-22T15:55:53.553818Z",
     "shell.execute_reply": "2022-01-22T15:55:53.553120Z",
     "shell.execute_reply.started": "2022-01-22T15:55:52.952969Z"
    }
   },
   "outputs": [],
   "source": [
    "\"\"\"\n",
    "Load the spacy model and load the English language model from https://spacy.io/usage/models\n",
    "\"\"\"\n",
    "nlp = spacy.load('en_core_web_sm')"
   ]
  },
  {
   "cell_type": "code",
   "execution_count": 7,
   "metadata": {
    "execution": {
     "iopub.execute_input": "2022-01-22T15:55:53.629426Z",
     "iopub.status.busy": "2022-01-22T15:55:53.629143Z",
     "iopub.status.idle": "2022-01-22T15:55:53.637675Z",
     "shell.execute_reply": "2022-01-22T15:55:53.636930Z",
     "shell.execute_reply.started": "2022-01-22T15:55:53.629373Z"
    }
   },
   "outputs": [],
   "source": [
    "# general Settings\n",
    "\n",
    "RANDOM_SEED = 123\n",
    "torch.manual_seed(RANDOM_SEED)\n",
    "\n",
    "VOCABULARY_SIZE = 20000\n",
    "LEARNING_RATE = 0.002 ### ADD YOUR LEARNING RATE HERE ###\n",
    "BATCH_SIZE = 50 ### ADD YOUR BATCH SIZE HERE ###\n",
    "NUM_EPOCHS = 25 ### ADD YOUR NUMBER OF EPOCHS HERE ###\n",
    "DEVICE = torch.device('cuda' if torch.cuda.is_available() else 'cpu')\n",
    "\n",
    "EMBEDDING_DIM = 100 ### ADD YOUR EMBEDDING DIMENSION HERE ###\n",
    "HIDDEN_DIM = 100 ### ADD YOUR HIDDEN DIMENSION HERE ###\n",
    "NUM_CLASSES = 2"
   ]
  },
  {
   "cell_type": "markdown",
   "metadata": {},
   "source": [
    "# Text & label Preparation"
   ]
  },
  {
   "cell_type": "code",
   "execution_count": 8,
   "metadata": {
    "execution": {
     "iopub.execute_input": "2022-01-22T15:55:53.639530Z",
     "iopub.status.busy": "2022-01-22T15:55:53.639045Z",
     "iopub.status.idle": "2022-01-22T15:55:54.191068Z",
     "shell.execute_reply": "2022-01-22T15:55:54.190361Z",
     "shell.execute_reply.started": "2022-01-22T15:55:53.639494Z"
    }
   },
   "outputs": [],
   "source": [
    "# Define feature processing\n",
    "\"\"\"\n",
    "Define the fields for the data.\n",
    "\"\"\"\n",
    "TEXT = torchtext.legacy.data.Field(tokenize = 'spacy', tokenizer_language = 'en_core_web_sm')"
   ]
  },
  {
   "cell_type": "code",
   "execution_count": 9,
   "metadata": {
    "execution": {
     "iopub.execute_input": "2022-01-22T15:55:54.194504Z",
     "iopub.status.busy": "2022-01-22T15:55:54.194231Z",
     "iopub.status.idle": "2022-01-22T15:55:54.198370Z",
     "shell.execute_reply": "2022-01-22T15:55:54.197471Z",
     "shell.execute_reply.started": "2022-01-22T15:55:54.194470Z"
    }
   },
   "outputs": [],
   "source": [
    "# Define Label processing\n",
    "LABEL = torchtext.legacy.data.LabelField(dtype = torch.long)"
   ]
  },
  {
   "cell_type": "code",
   "execution_count": 10,
   "metadata": {
    "execution": {
     "iopub.execute_input": "2022-01-22T15:55:54.200276Z",
     "iopub.status.busy": "2022-01-22T15:55:54.199959Z",
     "iopub.status.idle": "2022-01-22T15:55:57.099915Z",
     "shell.execute_reply": "2022-01-22T15:55:57.099168Z",
     "shell.execute_reply.started": "2022-01-22T15:55:54.200243Z"
    }
   },
   "outputs": [
    {
     "data": {
      "text/html": [
       "<div>\n",
       "<style scoped>\n",
       "    .dataframe tbody tr th:only-of-type {\n",
       "        vertical-align: middle;\n",
       "    }\n",
       "\n",
       "    .dataframe tbody tr th {\n",
       "        vertical-align: top;\n",
       "    }\n",
       "\n",
       "    .dataframe thead th {\n",
       "        text-align: right;\n",
       "    }\n",
       "</style>\n",
       "<table border=\"1\" class=\"dataframe\">\n",
       "  <thead>\n",
       "    <tr style=\"text-align: right;\">\n",
       "      <th></th>\n",
       "      <th>TEXT_COLUMN_NAME</th>\n",
       "      <th>LABEL_COLUMN_NAME</th>\n",
       "    </tr>\n",
       "  </thead>\n",
       "  <tbody>\n",
       "    <tr>\n",
       "      <th>0</th>\n",
       "      <td>One of the other reviewers has mentioned that ...</td>\n",
       "      <td>1</td>\n",
       "    </tr>\n",
       "    <tr>\n",
       "      <th>1</th>\n",
       "      <td>A wonderful little production. &lt;br /&gt;&lt;br /&gt;The...</td>\n",
       "      <td>1</td>\n",
       "    </tr>\n",
       "    <tr>\n",
       "      <th>2</th>\n",
       "      <td>I thought this was a wonderful way to spend ti...</td>\n",
       "      <td>1</td>\n",
       "    </tr>\n",
       "    <tr>\n",
       "      <th>3</th>\n",
       "      <td>Basically there's a family where a little boy ...</td>\n",
       "      <td>0</td>\n",
       "    </tr>\n",
       "    <tr>\n",
       "      <th>4</th>\n",
       "      <td>Petter Mattei's \"Love in the Time of Money\" is...</td>\n",
       "      <td>1</td>\n",
       "    </tr>\n",
       "  </tbody>\n",
       "</table>\n",
       "</div>"
      ],
      "text/plain": [
       "                                    TEXT_COLUMN_NAME  LABEL_COLUMN_NAME\n",
       "0  One of the other reviewers has mentioned that ...                  1\n",
       "1  A wonderful little production. <br /><br />The...                  1\n",
       "2  I thought this was a wonderful way to spend ti...                  1\n",
       "3  Basically there's a family where a little boy ...                  0\n",
       "4  Petter Mattei's \"Love in the Time of Money\" is...                  1"
      ]
     },
     "execution_count": 10,
     "metadata": {},
     "output_type": "execute_result"
    }
   ],
   "source": [
    "\"\"\"\n",
    "Define the fields for the data.\n",
    "\"\"\"\n",
    "\n",
    "df.to_csv('moviedata.csv', index = None)\n",
    "df = pd.read_csv('moviedata.csv')\n",
    "df.head()"
   ]
  },
  {
   "cell_type": "code",
   "execution_count": 11,
   "metadata": {
    "execution": {
     "iopub.execute_input": "2022-01-22T15:55:57.102513Z",
     "iopub.status.busy": "2022-01-22T15:55:57.102056Z",
     "iopub.status.idle": "2022-01-22T15:56:41.889075Z",
     "shell.execute_reply": "2022-01-22T15:56:41.888358Z",
     "shell.execute_reply.started": "2022-01-22T15:55:57.102470Z"
    }
   },
   "outputs": [],
   "source": [
    "# process the dataset\n",
    "\n",
    "fields = [('TEXT_COLUMN_NAME', TEXT), ('LABEL_COLUMN_NAME', LABEL)]\n",
    "\n",
    "dataset = torchtext.legacy.data.TabularDataset(\n",
    "                    path = \"moviedata.csv\", ### ADD YOUR DATASET PATH HERE ###\n",
    "                    format = \"CSV\", ### ADD YOUR DATASET FORMAT HERE ###\n",
    "                    skip_header = True, ### ADD YOUR SKIP HEADER HERE ### \n",
    "                    fields = fields ### ADD YOUR FIELDS HERE ### \n",
    ")"
   ]
  },
  {
   "cell_type": "markdown",
   "metadata": {},
   "source": [
    "# Data Split"
   ]
  },
  {
   "cell_type": "code",
   "execution_count": 12,
   "metadata": {
    "execution": {
     "iopub.execute_input": "2022-01-22T15:56:41.890714Z",
     "iopub.status.busy": "2022-01-22T15:56:41.890459Z",
     "iopub.status.idle": "2022-01-22T15:56:41.961168Z",
     "shell.execute_reply": "2022-01-22T15:56:41.960371Z",
     "shell.execute_reply.started": "2022-01-22T15:56:41.890680Z"
    }
   },
   "outputs": [
    {
     "name": "stdout",
     "output_type": "stream",
     "text": [
      "Length of train data 40000\n",
      "Length of test data 10000\n"
     ]
    }
   ],
   "source": [
    "# Split dataset into train and test set\n",
    "\n",
    "train_data, test_data = dataset.split(split_ratio = [0.8, 0.2], random_state = random.seed(RANDOM_SEED))\n",
    "\n",
    "print('Length of train data', len(train_data))\n",
    "print('Length of test data', len(test_data))"
   ]
  },
  {
   "cell_type": "code",
   "execution_count": 13,
   "metadata": {
    "execution": {
     "iopub.execute_input": "2022-01-22T15:56:41.962867Z",
     "iopub.status.busy": "2022-01-22T15:56:41.962611Z",
     "iopub.status.idle": "2022-01-22T15:56:42.018970Z",
     "shell.execute_reply": "2022-01-22T15:56:42.017378Z",
     "shell.execute_reply.started": "2022-01-22T15:56:41.962832Z"
    }
   },
   "outputs": [
    {
     "name": "stdout",
     "output_type": "stream",
     "text": [
      "Length of train data 34000\n",
      "Length of valid data 6000\n"
     ]
    }
   ],
   "source": [
    "train_data, val_data = train_data.split(split_ratio = [0.85, 0.15], random_state = random.seed(RANDOM_SEED))\n",
    "\n",
    "print('Length of train data', len(train_data))\n",
    "print('Length of valid data', len(val_data))"
   ]
  },
  {
   "cell_type": "markdown",
   "metadata": {},
   "source": [
    "# Data Observation after Tokenization"
   ]
  },
  {
   "cell_type": "code",
   "execution_count": 14,
   "metadata": {
    "execution": {
     "iopub.execute_input": "2022-01-22T15:56:42.020384Z",
     "iopub.status.busy": "2022-01-22T15:56:42.020132Z",
     "iopub.status.idle": "2022-01-22T15:56:42.026208Z",
     "shell.execute_reply": "2022-01-22T15:56:42.025377Z",
     "shell.execute_reply.started": "2022-01-22T15:56:42.020349Z"
    }
   },
   "outputs": [
    {
     "name": "stdout",
     "output_type": "stream",
     "text": [
      "{'TEXT_COLUMN_NAME': ['There', 'was', 'a', 'lot', 'of', 'hype', 'of', 'this', 'movie', 'and', 'the', 'commercials', 'made', 'it', 'seem', 'like', 'it', 'would', 'be', 'great', '.', 'Sadly', ',', 'like', 'Bring', 'It', 'On', '2', ',', 'Bring', 'It', 'On', '3', 'shamed', 'glory', 'of', 'the', 'original', 'Bring', 'It', 'On', '.', 'There', 'is', 'shameless', 'stereotyping', 'throughout', 'the', 'film', '.', 'The', 'lines', 'given', 'to', 'the', 'actors', 'were', 'humiliating', 'for', 'all', 'the', 'races', 'involved', 'in', 'the', 'film', '.', 'The', 'performance', 'of', 'Hayden', 'Panattiere', 'was', 'sub', '-', 'par', 'both', 'in', 'terms', 'of', 'acting', 'and', 'cheerleading', '.', 'There', 'were', 'several', 'scenes', 'in', 'which', 'I', 'literally', 'cringed', 'because', 'I', 'was', 'embarrassed', 'for', 'the', 'cast', 'because', 'the', 'scene', '(', 'lines', ',', 'plot', ',', 'etc', ')', 'were', 'just', 'so', 'stupid', '.', 'My', 'recommendation', 'to', 'the', 'makers', 'of', 'any', 'future', 'Bring', 'It', 'On', 'films', 'is', 'that', 'you', 'should', 'hire', 'good', 'cheerleaders', 'and', 'teach', 'them', 'to', 'act', 'because', 'the', '\"', 'acting', '\"', 'of', 'the', 'cast', 'was', 'horrendous', 'and', 'their', 'lack', 'of', 'cheerleading', 'ability', 'made', 'them', 'completely', 'useless', 'to', 'the', 'film', '.', 'Only', 'great', 'character', ':', 'Kirresha', '.'], 'LABEL_COLUMN_NAME': '0'}\n"
     ]
    }
   ],
   "source": [
    "# Look at first traning example\n",
    "\n",
    "print(vars(train_data.examples[2009]))"
   ]
  },
  {
   "cell_type": "code",
   "execution_count": 15,
   "metadata": {
    "execution": {
     "iopub.execute_input": "2022-01-22T15:56:42.028212Z",
     "iopub.status.busy": "2022-01-22T15:56:42.027904Z",
     "iopub.status.idle": "2022-01-22T15:56:43.688300Z",
     "shell.execute_reply": "2022-01-22T15:56:43.687534Z",
     "shell.execute_reply.started": "2022-01-22T15:56:42.028178Z"
    }
   },
   "outputs": [
    {
     "name": "stdout",
     "output_type": "stream",
     "text": [
      "vocabulary size: 20002\n",
      "label Size: 2\n"
     ]
    }
   ],
   "source": [
    "# Build Vocabulary\n",
    "\n",
    "TEXT.build_vocab(train_data, max_size = VOCABULARY_SIZE)\n",
    "LABEL.build_vocab(train_data)\n",
    "\n",
    "print(f'vocabulary size: {len(TEXT.vocab)}')\n",
    "print(f'label Size: {len(LABEL.vocab)}')"
   ]
  },
  {
   "cell_type": "markdown",
   "metadata": {},
   "source": [
    " 2 extra value in vocabulary is because added (unknown) and (padding)"
   ]
  },
  {
   "cell_type": "code",
   "execution_count": 16,
   "metadata": {
    "execution": {
     "iopub.execute_input": "2022-01-22T15:56:43.690179Z",
     "iopub.status.busy": "2022-01-22T15:56:43.689727Z",
     "iopub.status.idle": "2022-01-22T15:56:43.726493Z",
     "shell.execute_reply": "2022-01-22T15:56:43.725793Z",
     "shell.execute_reply.started": "2022-01-22T15:56:43.690127Z"
    }
   },
   "outputs": [
    {
     "name": "stdout",
     "output_type": "stream",
     "text": [
      "[('the', 390972), (',', 369444), ('.', 318509), ('a', 210502), ('and', 210008), ('of', 194659), ('to', 180163), ('is', 145895), ('in', 118266), ('I', 105681), ('it', 103588), ('that', 93995), ('\"', 85535), (\"'s\", 83149), ('this', 81775), ('-', 71249), ('/><br', 68787), ('was', 67372), ('as', 57734), ('movie', 57572)]\n"
     ]
    }
   ],
   "source": [
    "# Print the most common words: Use the most_common method of the TEXT vocabulary\n",
    "most_common_words = TEXT.vocab.freqs.most_common()\n",
    "print(most_common_words[:20])"
   ]
  },
  {
   "cell_type": "code",
   "execution_count": 17,
   "metadata": {
    "execution": {
     "iopub.execute_input": "2022-01-22T15:56:43.727759Z",
     "iopub.status.busy": "2022-01-22T15:56:43.727533Z",
     "iopub.status.idle": "2022-01-22T15:56:43.733148Z",
     "shell.execute_reply": "2022-01-22T15:56:43.732231Z",
     "shell.execute_reply.started": "2022-01-22T15:56:43.727727Z"
    }
   },
   "outputs": [
    {
     "name": "stdout",
     "output_type": "stream",
     "text": [
      "['<unk>', '<pad>', 'the', ',', '.', 'a', 'and', 'of', 'to', 'is', 'in', 'I', 'it', 'that', '\"', \"'s\", 'this', '-', '/><br', 'was']\n"
     ]
    }
   ],
   "source": [
    "# Token corresponding to first 10 Indices\n",
    "\n",
    "print(TEXT.vocab.itos[:20]) #itos = Integer to string"
   ]
  },
  {
   "cell_type": "markdown",
   "metadata": {},
   "source": [
    "# Data Preparation for Batch wise Implimentation"
   ]
  },
  {
   "cell_type": "code",
   "execution_count": 18,
   "metadata": {
    "execution": {
     "iopub.execute_input": "2022-01-22T15:56:43.760843Z",
     "iopub.status.busy": "2022-01-22T15:56:43.760082Z",
     "iopub.status.idle": "2022-01-22T15:56:43.766731Z",
     "shell.execute_reply": "2022-01-22T15:56:43.766017Z",
     "shell.execute_reply.started": "2022-01-22T15:56:43.760804Z"
    }
   },
   "outputs": [],
   "source": [
    "# Define Dataloader\n",
    "\n",
    "train_loader, valid_loader, test_loader = torchtext.legacy.data.BucketIterator.splits(\n",
    "        (train_data, val_data, test_data), ### ADD YOUR SPLIT DATA HERE (Make sure you add it in a tuple) ###\n",
    "        batch_size = BATCH_SIZE, ### ADD YOUR BATCH SIZE HERE ###\n",
    "        sort_within_batch = True, ### ADD YOUR SORT WITHIN BATCH HERE ### \n",
    "        sort_key = lambda x : len(x.TEXT_COLUMN_NAME), \n",
    "        device = DEVICE\n",
    "    )"
   ]
  },
  {
   "cell_type": "code",
   "execution_count": 19,
   "metadata": {
    "execution": {
     "iopub.execute_input": "2022-01-22T15:56:43.768827Z",
     "iopub.status.busy": "2022-01-22T15:56:43.768197Z",
     "iopub.status.idle": "2022-01-22T15:56:43.900963Z",
     "shell.execute_reply": "2022-01-22T15:56:43.900283Z",
     "shell.execute_reply.started": "2022-01-22T15:56:43.768790Z"
    }
   },
   "outputs": [
    {
     "name": "stdout",
     "output_type": "stream",
     "text": [
      "Train\n",
      "Text matrix size: torch.Size([250, 50])\n",
      "Target vector size: torch.Size([50])\n",
      "\n",
      "Valid:\n",
      "Text matrix size: torch.Size([47, 50])\n",
      "Target vector size: torch.Size([50])\n",
      "\n",
      "Test:\n",
      "Text matrix size: torch.Size([41, 50])\n",
      "Target vector size: torch.Size([50])\n"
     ]
    }
   ],
   "source": [
    "# Testing the iterators (note that the number of rows depends on the longest document in the respective batch):\n",
    "\n",
    "print('Train')\n",
    "for batch in train_loader:\n",
    "    print(f'Text matrix size: {batch.TEXT_COLUMN_NAME.size()}')\n",
    "    print(f'Target vector size: {batch.LABEL_COLUMN_NAME.size()}')\n",
    "    break\n",
    "    \n",
    "print('\\nValid:')\n",
    "for batch in valid_loader:\n",
    "    print(f'Text matrix size: {batch.TEXT_COLUMN_NAME.size()}')\n",
    "    print(f'Target vector size: {batch.LABEL_COLUMN_NAME.size()}')\n",
    "    break\n",
    "    \n",
    "print('\\nTest:')\n",
    "for batch in test_loader:\n",
    "    print(f'Text matrix size: {batch.TEXT_COLUMN_NAME.size()}')\n",
    "    print(f'Target vector size: {batch.LABEL_COLUMN_NAME.size()}')\n",
    "    break"
   ]
  },
  {
   "cell_type": "markdown",
   "metadata": {},
   "source": [
    "# Model Building"
   ]
  },
  {
   "cell_type": "code",
   "execution_count": 49,
   "metadata": {
    "execution": {
     "iopub.execute_input": "2022-01-22T15:56:43.910544Z",
     "iopub.status.busy": "2022-01-22T15:56:43.910274Z",
     "iopub.status.idle": "2022-01-22T15:56:43.920687Z",
     "shell.execute_reply": "2022-01-22T15:56:43.919977Z",
     "shell.execute_reply.started": "2022-01-22T15:56:43.910510Z"
    }
   },
   "outputs": [],
   "source": [
    "import torch.nn as nn\n",
    "\n",
    "class RNN(nn.Module):\n",
    "    \n",
    "    def __init__(self, input_dim, embedding_dim, hidden_dim, output_dim):\n",
    "        super().__init__()\n",
    "        ### ADD YOUR CODE HERE ###\n",
    "        self.hidden_dim = hidden_dim\n",
    "        \n",
    "        self.embed = nn.Embedding(input_dim, embedding_dim)\n",
    "        self.rnn = nn.LSTM(embedding_dim, hidden_dim, num_layers=1)\n",
    "        self.fc = nn.Linear(hidden_dim, output_dim)\n",
    "        ### END YOUR CODE ### \n",
    "\n",
    "    def forward(self, text):\n",
    "        ### ADD YOUR CODE HERE ###\n",
    "        # text dim: [sentence length, batch size]\n",
    "        # embedded dim: [sentence length, batch size, embedding dim]\n",
    "        embedded = self.embed(text)\n",
    "        output, (hidden, cell) = self.rnn(embedded)\n",
    "        # hidden dim: [1, batch size, hidden dim]\n",
    "        hidden.squeeze(0)\n",
    "        # hidden dim: [batch size, hidden dim]\n",
    "        output = self.fc(hidden)\n",
    "        ### END YOUR CODE ###\n",
    "        #reshape output to (batch size, output_dim)\n",
    "        return output.permute(1, 2, 0).squeeze(2)\n",
    "\n",
    "\n",
    "    "
   ]
  },
  {
   "cell_type": "code",
   "execution_count": 50,
   "metadata": {
    "execution": {
     "iopub.execute_input": "2022-01-22T15:56:43.922337Z",
     "iopub.status.busy": "2022-01-22T15:56:43.921742Z",
     "iopub.status.idle": "2022-01-22T15:56:51.579010Z",
     "shell.execute_reply": "2022-01-22T15:56:51.578073Z",
     "shell.execute_reply.started": "2022-01-22T15:56:43.922287Z"
    }
   },
   "outputs": [],
   "source": [
    "torch.manual_seed(RANDOM_SEED)\n",
    "model = RNN(input_dim=len(TEXT.vocab), ### ADD YOUR INPUT DIM HERE. This can be the length of your vocabulary or the embedding dim ###\n",
    "            embedding_dim= EMBEDDING_DIM, ### ADD YOUR EMBEDDING DIM HERE ###\n",
    "            hidden_dim= HIDDEN_DIM, ### ADD YOUR HIDDEN DIM HERE ###\n",
    "            output_dim= NUM_CLASSES ### ADD NUMBER OF CLASSES HERE ###\n",
    ")\n",
    "\n",
    "model = model.to(DEVICE)\n",
    "\n",
    "loss_fn = nn.CrossEntropyLoss()\n",
    "optimizer = torch.optim.Adam(model.parameters(), lr=LEARNING_RATE) ### ADD YOUR OPTIMIZER HERE ###"
   ]
  },
  {
   "cell_type": "markdown",
   "metadata": {},
   "source": [
    "# Define Accuracy"
   ]
  },
  {
   "cell_type": "code",
   "execution_count": 51,
   "metadata": {
    "execution": {
     "iopub.execute_input": "2022-01-22T15:56:51.581205Z",
     "iopub.status.busy": "2022-01-22T15:56:51.580712Z",
     "iopub.status.idle": "2022-01-22T15:56:51.589897Z",
     "shell.execute_reply": "2022-01-22T15:56:51.588931Z",
     "shell.execute_reply.started": "2022-01-22T15:56:51.581131Z"
    }
   },
   "outputs": [],
   "source": [
    "def compute_accuracy(model, data_loader, device):\n",
    "\n",
    "    with torch.no_grad():\n",
    "\n",
    "        correct_pred, num_examples = 0, 0\n",
    "\n",
    "        for i, (features, targets) in enumerate(data_loader):\n",
    "\n",
    "            features = features.to(device)\n",
    "            targets = targets.float().to(device)\n",
    "\n",
    "            logits = model(features)\n",
    "            _, predicted_labels = torch.max(logits, 1)\n",
    "\n",
    "            num_examples += targets.size(0)\n",
    "            correct_pred += (predicted_labels == targets).sum()\n",
    "    return correct_pred.float()/num_examples * 100"
   ]
  },
  {
   "cell_type": "markdown",
   "metadata": {},
   "source": [
    "# Model Run"
   ]
  },
  {
   "cell_type": "code",
   "execution_count": 52,
   "metadata": {
    "execution": {
     "iopub.execute_input": "2022-01-22T15:56:51.596066Z",
     "iopub.status.busy": "2022-01-22T15:56:51.595269Z",
     "iopub.status.idle": "2022-01-22T16:41:22.979843Z",
     "shell.execute_reply": "2022-01-22T16:41:22.979001Z",
     "shell.execute_reply.started": "2022-01-22T15:56:51.596024Z"
    }
   },
   "outputs": [
    {
     "name": "stdout",
     "output_type": "stream",
     "text": [
      "Epoch: 001/025 | Batch 000/680 | Loss: 0.7216\n",
      "Epoch: 001/025 | Batch 050/680 | Loss: 0.7055\n",
      "Epoch: 001/025 | Batch 100/680 | Loss: 0.6662\n",
      "Epoch: 001/025 | Batch 150/680 | Loss: 0.7529\n",
      "Epoch: 001/025 | Batch 200/680 | Loss: 0.6569\n",
      "Epoch: 001/025 | Batch 250/680 | Loss: 0.5226\n",
      "Epoch: 001/025 | Batch 300/680 | Loss: 0.5207\n",
      "Epoch: 001/025 | Batch 350/680 | Loss: 0.6768\n",
      "Epoch: 001/025 | Batch 400/680 | Loss: 0.5450\n",
      "Epoch: 001/025 | Batch 450/680 | Loss: 0.4612\n",
      "Epoch: 001/025 | Batch 500/680 | Loss: 0.5053\n",
      "Epoch: 001/025 | Batch 550/680 | Loss: 0.5656\n",
      "Epoch: 001/025 | Batch 600/680 | Loss: 0.4411\n",
      "Epoch: 001/025 | Batch 650/680 | Loss: 0.5087\n",
      "training accuracy: 74.19%\n",
      "valid accuracy: 71.65%\n",
      "Time elapsed: 0.22 min\n",
      "Epoch: 002/025 | Batch 000/680 | Loss: 0.4463\n",
      "Epoch: 002/025 | Batch 050/680 | Loss: 0.4999\n",
      "Epoch: 002/025 | Batch 100/680 | Loss: 0.4702\n",
      "Epoch: 002/025 | Batch 150/680 | Loss: 0.3764\n",
      "Epoch: 002/025 | Batch 200/680 | Loss: 0.3966\n",
      "Epoch: 002/025 | Batch 250/680 | Loss: 0.5544\n",
      "Epoch: 002/025 | Batch 300/680 | Loss: 0.3925\n",
      "Epoch: 002/025 | Batch 350/680 | Loss: 0.2967\n",
      "Epoch: 002/025 | Batch 400/680 | Loss: 0.2121\n",
      "Epoch: 002/025 | Batch 450/680 | Loss: 0.3268\n",
      "Epoch: 002/025 | Batch 500/680 | Loss: 0.2702\n",
      "Epoch: 002/025 | Batch 550/680 | Loss: 0.4205\n",
      "Epoch: 002/025 | Batch 600/680 | Loss: 0.3472\n",
      "Epoch: 002/025 | Batch 650/680 | Loss: 0.2054\n",
      "training accuracy: 92.59%\n",
      "valid accuracy: 88.02%\n",
      "Time elapsed: 0.43 min\n",
      "Epoch: 003/025 | Batch 000/680 | Loss: 0.3225\n",
      "Epoch: 003/025 | Batch 050/680 | Loss: 0.1894\n",
      "Epoch: 003/025 | Batch 100/680 | Loss: 0.3585\n",
      "Epoch: 003/025 | Batch 150/680 | Loss: 0.2802\n",
      "Epoch: 003/025 | Batch 200/680 | Loss: 0.1672\n",
      "Epoch: 003/025 | Batch 250/680 | Loss: 0.1932\n",
      "Epoch: 003/025 | Batch 300/680 | Loss: 0.3166\n",
      "Epoch: 003/025 | Batch 350/680 | Loss: 0.2152\n",
      "Epoch: 003/025 | Batch 400/680 | Loss: 0.3204\n",
      "Epoch: 003/025 | Batch 450/680 | Loss: 0.3158\n",
      "Epoch: 003/025 | Batch 500/680 | Loss: 0.0997\n",
      "Epoch: 003/025 | Batch 550/680 | Loss: 0.2566\n",
      "Epoch: 003/025 | Batch 600/680 | Loss: 0.1703\n",
      "Epoch: 003/025 | Batch 650/680 | Loss: 0.1751\n",
      "training accuracy: 96.03%\n",
      "valid accuracy: 89.10%\n",
      "Time elapsed: 0.65 min\n",
      "Epoch: 004/025 | Batch 000/680 | Loss: 0.3321\n",
      "Epoch: 004/025 | Batch 050/680 | Loss: 0.1261\n",
      "Epoch: 004/025 | Batch 100/680 | Loss: 0.2623\n",
      "Epoch: 004/025 | Batch 150/680 | Loss: 0.1936\n",
      "Epoch: 004/025 | Batch 200/680 | Loss: 0.1060\n",
      "Epoch: 004/025 | Batch 250/680 | Loss: 0.1477\n",
      "Epoch: 004/025 | Batch 300/680 | Loss: 0.0688\n",
      "Epoch: 004/025 | Batch 350/680 | Loss: 0.1660\n",
      "Epoch: 004/025 | Batch 400/680 | Loss: 0.0584\n",
      "Epoch: 004/025 | Batch 450/680 | Loss: 0.0277\n",
      "Epoch: 004/025 | Batch 500/680 | Loss: 0.2512\n",
      "Epoch: 004/025 | Batch 550/680 | Loss: 0.0610\n",
      "Epoch: 004/025 | Batch 600/680 | Loss: 0.0625\n",
      "Epoch: 004/025 | Batch 650/680 | Loss: 0.1324\n",
      "training accuracy: 97.79%\n",
      "valid accuracy: 88.88%\n",
      "Time elapsed: 0.86 min\n",
      "Epoch: 005/025 | Batch 000/680 | Loss: 0.1894\n",
      "Epoch: 005/025 | Batch 050/680 | Loss: 0.1874\n",
      "Epoch: 005/025 | Batch 100/680 | Loss: 0.0340\n",
      "Epoch: 005/025 | Batch 150/680 | Loss: 0.0935\n",
      "Epoch: 005/025 | Batch 200/680 | Loss: 0.0886\n",
      "Epoch: 005/025 | Batch 250/680 | Loss: 0.0887\n",
      "Epoch: 005/025 | Batch 300/680 | Loss: 0.0507\n",
      "Epoch: 005/025 | Batch 350/680 | Loss: 0.0489\n",
      "Epoch: 005/025 | Batch 400/680 | Loss: 0.0782\n",
      "Epoch: 005/025 | Batch 450/680 | Loss: 0.0212\n",
      "Epoch: 005/025 | Batch 500/680 | Loss: 0.1121\n",
      "Epoch: 005/025 | Batch 550/680 | Loss: 0.0481\n",
      "Epoch: 005/025 | Batch 600/680 | Loss: 0.0304\n",
      "Epoch: 005/025 | Batch 650/680 | Loss: 0.1240\n",
      "training accuracy: 98.74%\n",
      "valid accuracy: 88.80%\n",
      "Time elapsed: 1.08 min\n",
      "Epoch: 006/025 | Batch 000/680 | Loss: 0.0200\n",
      "Epoch: 006/025 | Batch 050/680 | Loss: 0.0627\n",
      "Epoch: 006/025 | Batch 100/680 | Loss: 0.0752\n",
      "Epoch: 006/025 | Batch 150/680 | Loss: 0.1364\n",
      "Epoch: 006/025 | Batch 200/680 | Loss: 0.0127\n",
      "Epoch: 006/025 | Batch 250/680 | Loss: 0.1421\n",
      "Epoch: 006/025 | Batch 300/680 | Loss: 0.1489\n",
      "Epoch: 006/025 | Batch 350/680 | Loss: 0.0113\n",
      "Epoch: 006/025 | Batch 400/680 | Loss: 0.0364\n",
      "Epoch: 006/025 | Batch 450/680 | Loss: 0.0189\n",
      "Epoch: 006/025 | Batch 500/680 | Loss: 0.2116\n",
      "Epoch: 006/025 | Batch 550/680 | Loss: 0.0344\n",
      "Epoch: 006/025 | Batch 600/680 | Loss: 0.0317\n",
      "Epoch: 006/025 | Batch 650/680 | Loss: 0.0365\n",
      "training accuracy: 99.25%\n",
      "valid accuracy: 88.78%\n",
      "Time elapsed: 1.30 min\n",
      "Epoch: 007/025 | Batch 000/680 | Loss: 0.0351\n",
      "Epoch: 007/025 | Batch 050/680 | Loss: 0.0390\n",
      "Epoch: 007/025 | Batch 100/680 | Loss: 0.0133\n",
      "Epoch: 007/025 | Batch 150/680 | Loss: 0.0031\n",
      "Epoch: 007/025 | Batch 200/680 | Loss: 0.0035\n",
      "Epoch: 007/025 | Batch 250/680 | Loss: 0.1014\n",
      "Epoch: 007/025 | Batch 300/680 | Loss: 0.0200\n",
      "Epoch: 007/025 | Batch 350/680 | Loss: 0.0050\n",
      "Epoch: 007/025 | Batch 400/680 | Loss: 0.0038\n",
      "Epoch: 007/025 | Batch 450/680 | Loss: 0.0054\n",
      "Epoch: 007/025 | Batch 500/680 | Loss: 0.0510\n",
      "Epoch: 007/025 | Batch 550/680 | Loss: 0.0057\n",
      "Epoch: 007/025 | Batch 600/680 | Loss: 0.0173\n",
      "Epoch: 007/025 | Batch 650/680 | Loss: 0.0402\n",
      "training accuracy: 99.57%\n",
      "valid accuracy: 88.65%\n",
      "Time elapsed: 1.52 min\n",
      "Epoch: 008/025 | Batch 000/680 | Loss: 0.0115\n",
      "Epoch: 008/025 | Batch 050/680 | Loss: 0.0013\n",
      "Epoch: 008/025 | Batch 100/680 | Loss: 0.0017\n",
      "Epoch: 008/025 | Batch 150/680 | Loss: 0.0125\n",
      "Epoch: 008/025 | Batch 200/680 | Loss: 0.0062\n",
      "Epoch: 008/025 | Batch 250/680 | Loss: 0.0043\n",
      "Epoch: 008/025 | Batch 300/680 | Loss: 0.0050\n",
      "Epoch: 008/025 | Batch 350/680 | Loss: 0.0058\n",
      "Epoch: 008/025 | Batch 400/680 | Loss: 0.0018\n",
      "Epoch: 008/025 | Batch 450/680 | Loss: 0.0178\n",
      "Epoch: 008/025 | Batch 500/680 | Loss: 0.0266\n",
      "Epoch: 008/025 | Batch 550/680 | Loss: 0.0599\n",
      "Epoch: 008/025 | Batch 600/680 | Loss: 0.0349\n",
      "Epoch: 008/025 | Batch 650/680 | Loss: 0.0117\n",
      "training accuracy: 99.59%\n",
      "valid accuracy: 89.05%\n",
      "Time elapsed: 1.73 min\n",
      "Epoch: 009/025 | Batch 000/680 | Loss: 0.0100\n",
      "Epoch: 009/025 | Batch 050/680 | Loss: 0.0046\n",
      "Epoch: 009/025 | Batch 100/680 | Loss: 0.0402\n",
      "Epoch: 009/025 | Batch 150/680 | Loss: 0.0937\n",
      "Epoch: 009/025 | Batch 200/680 | Loss: 0.0027\n",
      "Epoch: 009/025 | Batch 250/680 | Loss: 0.0044\n",
      "Epoch: 009/025 | Batch 300/680 | Loss: 0.0060\n",
      "Epoch: 009/025 | Batch 350/680 | Loss: 0.0020\n",
      "Epoch: 009/025 | Batch 400/680 | Loss: 0.0022\n",
      "Epoch: 009/025 | Batch 450/680 | Loss: 0.0035\n",
      "Epoch: 009/025 | Batch 500/680 | Loss: 0.0097\n",
      "Epoch: 009/025 | Batch 550/680 | Loss: 0.0031\n",
      "Epoch: 009/025 | Batch 600/680 | Loss: 0.0116\n",
      "Epoch: 009/025 | Batch 650/680 | Loss: 0.1065\n",
      "training accuracy: 99.70%\n",
      "valid accuracy: 88.73%\n",
      "Time elapsed: 1.95 min\n",
      "Epoch: 010/025 | Batch 000/680 | Loss: 0.0553\n",
      "Epoch: 010/025 | Batch 050/680 | Loss: 0.0008\n",
      "Epoch: 010/025 | Batch 100/680 | Loss: 0.0189\n",
      "Epoch: 010/025 | Batch 150/680 | Loss: 0.0058\n",
      "Epoch: 010/025 | Batch 200/680 | Loss: 0.0016\n",
      "Epoch: 010/025 | Batch 250/680 | Loss: 0.0083\n",
      "Epoch: 010/025 | Batch 300/680 | Loss: 0.0022\n",
      "Epoch: 010/025 | Batch 350/680 | Loss: 0.0064\n",
      "Epoch: 010/025 | Batch 400/680 | Loss: 0.0077\n",
      "Epoch: 010/025 | Batch 450/680 | Loss: 0.0077\n",
      "Epoch: 010/025 | Batch 500/680 | Loss: 0.0413\n",
      "Epoch: 010/025 | Batch 550/680 | Loss: 0.0124\n",
      "Epoch: 010/025 | Batch 600/680 | Loss: 0.0195\n",
      "Epoch: 010/025 | Batch 650/680 | Loss: 0.0156\n",
      "training accuracy: 99.62%\n",
      "valid accuracy: 88.33%\n",
      "Time elapsed: 2.17 min\n",
      "Epoch: 011/025 | Batch 000/680 | Loss: 0.0031\n",
      "Epoch: 011/025 | Batch 050/680 | Loss: 0.0087\n",
      "Epoch: 011/025 | Batch 100/680 | Loss: 0.0056\n",
      "Epoch: 011/025 | Batch 150/680 | Loss: 0.0082\n",
      "Epoch: 011/025 | Batch 200/680 | Loss: 0.1452\n",
      "Epoch: 011/025 | Batch 250/680 | Loss: 0.0017\n",
      "Epoch: 011/025 | Batch 300/680 | Loss: 0.0037\n",
      "Epoch: 011/025 | Batch 350/680 | Loss: 0.0031\n",
      "Epoch: 011/025 | Batch 400/680 | Loss: 0.0035\n",
      "Epoch: 011/025 | Batch 450/680 | Loss: 0.0503\n",
      "Epoch: 011/025 | Batch 500/680 | Loss: 0.0048\n",
      "Epoch: 011/025 | Batch 550/680 | Loss: 0.0119\n",
      "Epoch: 011/025 | Batch 600/680 | Loss: 0.0062\n",
      "Epoch: 011/025 | Batch 650/680 | Loss: 0.0083\n",
      "training accuracy: 99.73%\n",
      "valid accuracy: 88.62%\n",
      "Time elapsed: 2.39 min\n",
      "Epoch: 012/025 | Batch 000/680 | Loss: 0.0022\n",
      "Epoch: 012/025 | Batch 050/680 | Loss: 0.0008\n",
      "Epoch: 012/025 | Batch 100/680 | Loss: 0.0163\n",
      "Epoch: 012/025 | Batch 150/680 | Loss: 0.0020\n",
      "Epoch: 012/025 | Batch 200/680 | Loss: 0.0038\n",
      "Epoch: 012/025 | Batch 250/680 | Loss: 0.0014\n",
      "Epoch: 012/025 | Batch 300/680 | Loss: 0.0010\n",
      "Epoch: 012/025 | Batch 350/680 | Loss: 0.0061\n",
      "Epoch: 012/025 | Batch 400/680 | Loss: 0.0044\n",
      "Epoch: 012/025 | Batch 450/680 | Loss: 0.0164\n",
      "Epoch: 012/025 | Batch 500/680 | Loss: 0.0020\n",
      "Epoch: 012/025 | Batch 550/680 | Loss: 0.0058\n",
      "Epoch: 012/025 | Batch 600/680 | Loss: 0.0044\n",
      "Epoch: 012/025 | Batch 650/680 | Loss: 0.0005\n",
      "training accuracy: 99.84%\n",
      "valid accuracy: 89.07%\n",
      "Time elapsed: 2.61 min\n",
      "Epoch: 013/025 | Batch 000/680 | Loss: 0.0023\n",
      "Epoch: 013/025 | Batch 050/680 | Loss: 0.0027\n",
      "Epoch: 013/025 | Batch 100/680 | Loss: 0.0003\n",
      "Epoch: 013/025 | Batch 150/680 | Loss: 0.0005\n",
      "Epoch: 013/025 | Batch 200/680 | Loss: 0.0003\n",
      "Epoch: 013/025 | Batch 250/680 | Loss: 0.0036\n",
      "Epoch: 013/025 | Batch 300/680 | Loss: 0.0010\n",
      "Epoch: 013/025 | Batch 350/680 | Loss: 0.0003\n",
      "Epoch: 013/025 | Batch 400/680 | Loss: 0.0030\n",
      "Epoch: 013/025 | Batch 450/680 | Loss: 0.0019\n",
      "Epoch: 013/025 | Batch 500/680 | Loss: 0.0014\n",
      "Epoch: 013/025 | Batch 550/680 | Loss: 0.1283\n",
      "Epoch: 013/025 | Batch 600/680 | Loss: 0.0175\n",
      "Epoch: 013/025 | Batch 650/680 | Loss: 0.0022\n",
      "training accuracy: 99.50%\n",
      "valid accuracy: 88.12%\n",
      "Time elapsed: 2.83 min\n",
      "Epoch: 014/025 | Batch 000/680 | Loss: 0.0069\n",
      "Epoch: 014/025 | Batch 050/680 | Loss: 0.0073\n",
      "Epoch: 014/025 | Batch 100/680 | Loss: 0.0037\n",
      "Epoch: 014/025 | Batch 150/680 | Loss: 0.0527\n",
      "Epoch: 014/025 | Batch 200/680 | Loss: 0.0060\n",
      "Epoch: 014/025 | Batch 250/680 | Loss: 0.0008\n",
      "Epoch: 014/025 | Batch 300/680 | Loss: 0.0007\n",
      "Epoch: 014/025 | Batch 350/680 | Loss: 0.0064\n",
      "Epoch: 014/025 | Batch 400/680 | Loss: 0.0139\n",
      "Epoch: 014/025 | Batch 450/680 | Loss: 0.0970\n",
      "Epoch: 014/025 | Batch 500/680 | Loss: 0.0432\n",
      "Epoch: 014/025 | Batch 550/680 | Loss: 0.1009\n",
      "Epoch: 014/025 | Batch 600/680 | Loss: 0.0076\n",
      "Epoch: 014/025 | Batch 650/680 | Loss: 0.0115\n",
      "training accuracy: 99.83%\n",
      "valid accuracy: 88.70%\n",
      "Time elapsed: 3.05 min\n",
      "Epoch: 015/025 | Batch 000/680 | Loss: 0.0016\n",
      "Epoch: 015/025 | Batch 050/680 | Loss: 0.0185\n",
      "Epoch: 015/025 | Batch 100/680 | Loss: 0.0022\n",
      "Epoch: 015/025 | Batch 150/680 | Loss: 0.0007\n",
      "Epoch: 015/025 | Batch 200/680 | Loss: 0.0022\n",
      "Epoch: 015/025 | Batch 250/680 | Loss: 0.0423\n",
      "Epoch: 015/025 | Batch 300/680 | Loss: 0.0065\n",
      "Epoch: 015/025 | Batch 350/680 | Loss: 0.0019\n",
      "Epoch: 015/025 | Batch 400/680 | Loss: 0.0169\n",
      "Epoch: 015/025 | Batch 450/680 | Loss: 0.0007\n",
      "Epoch: 015/025 | Batch 500/680 | Loss: 0.0014\n",
      "Epoch: 015/025 | Batch 550/680 | Loss: 0.0150\n",
      "Epoch: 015/025 | Batch 600/680 | Loss: 0.0007\n",
      "Epoch: 015/025 | Batch 650/680 | Loss: 0.0017\n",
      "training accuracy: 99.64%\n",
      "valid accuracy: 88.55%\n",
      "Time elapsed: 3.27 min\n",
      "Epoch: 016/025 | Batch 000/680 | Loss: 0.0015\n",
      "Epoch: 016/025 | Batch 050/680 | Loss: 0.0491\n",
      "Epoch: 016/025 | Batch 100/680 | Loss: 0.0004\n",
      "Epoch: 016/025 | Batch 150/680 | Loss: 0.0013\n",
      "Epoch: 016/025 | Batch 200/680 | Loss: 0.0018\n",
      "Epoch: 016/025 | Batch 250/680 | Loss: 0.0015\n",
      "Epoch: 016/025 | Batch 300/680 | Loss: 0.0004\n",
      "Epoch: 016/025 | Batch 350/680 | Loss: 0.0026\n",
      "Epoch: 016/025 | Batch 400/680 | Loss: 0.0071\n",
      "Epoch: 016/025 | Batch 450/680 | Loss: 0.0007\n",
      "Epoch: 016/025 | Batch 500/680 | Loss: 0.0555\n",
      "Epoch: 016/025 | Batch 550/680 | Loss: 0.0008\n",
      "Epoch: 016/025 | Batch 600/680 | Loss: 0.0132\n",
      "Epoch: 016/025 | Batch 650/680 | Loss: 0.0232\n",
      "training accuracy: 99.90%\n",
      "valid accuracy: 88.57%\n",
      "Time elapsed: 3.48 min\n",
      "Epoch: 017/025 | Batch 000/680 | Loss: 0.0007\n",
      "Epoch: 017/025 | Batch 050/680 | Loss: 0.0008\n",
      "Epoch: 017/025 | Batch 100/680 | Loss: 0.0008\n",
      "Epoch: 017/025 | Batch 150/680 | Loss: 0.0028\n",
      "Epoch: 017/025 | Batch 200/680 | Loss: 0.0014\n",
      "Epoch: 017/025 | Batch 250/680 | Loss: 0.0003\n",
      "Epoch: 017/025 | Batch 300/680 | Loss: 0.0026\n",
      "Epoch: 017/025 | Batch 350/680 | Loss: 0.0027\n",
      "Epoch: 017/025 | Batch 400/680 | Loss: 0.0010\n",
      "Epoch: 017/025 | Batch 450/680 | Loss: 0.0006\n",
      "Epoch: 017/025 | Batch 500/680 | Loss: 0.0100\n",
      "Epoch: 017/025 | Batch 550/680 | Loss: 0.0520\n",
      "Epoch: 017/025 | Batch 600/680 | Loss: 0.0003\n",
      "Epoch: 017/025 | Batch 650/680 | Loss: 0.0004\n",
      "training accuracy: 99.92%\n",
      "valid accuracy: 88.25%\n",
      "Time elapsed: 3.70 min\n",
      "Epoch: 018/025 | Batch 000/680 | Loss: 0.0010\n",
      "Epoch: 018/025 | Batch 050/680 | Loss: 0.0009\n",
      "Epoch: 018/025 | Batch 100/680 | Loss: 0.0014\n",
      "Epoch: 018/025 | Batch 150/680 | Loss: 0.0006\n",
      "Epoch: 018/025 | Batch 200/680 | Loss: 0.0006\n",
      "Epoch: 018/025 | Batch 250/680 | Loss: 0.0018\n",
      "Epoch: 018/025 | Batch 300/680 | Loss: 0.0057\n",
      "Epoch: 018/025 | Batch 350/680 | Loss: 0.0003\n",
      "Epoch: 018/025 | Batch 400/680 | Loss: 0.0043\n",
      "Epoch: 018/025 | Batch 450/680 | Loss: 0.0003\n",
      "Epoch: 018/025 | Batch 500/680 | Loss: 0.0179\n",
      "Epoch: 018/025 | Batch 550/680 | Loss: 0.0009\n",
      "Epoch: 018/025 | Batch 600/680 | Loss: 0.0007\n",
      "Epoch: 018/025 | Batch 650/680 | Loss: 0.0004\n",
      "training accuracy: 99.87%\n",
      "valid accuracy: 89.12%\n",
      "Time elapsed: 3.91 min\n",
      "Epoch: 019/025 | Batch 000/680 | Loss: 0.0005\n",
      "Epoch: 019/025 | Batch 050/680 | Loss: 0.0004\n",
      "Epoch: 019/025 | Batch 100/680 | Loss: 0.0237\n",
      "Epoch: 019/025 | Batch 150/680 | Loss: 0.0047\n",
      "Epoch: 019/025 | Batch 200/680 | Loss: 0.0003\n",
      "Epoch: 019/025 | Batch 250/680 | Loss: 0.0005\n",
      "Epoch: 019/025 | Batch 300/680 | Loss: 0.0008\n",
      "Epoch: 019/025 | Batch 350/680 | Loss: 0.0006\n",
      "Epoch: 019/025 | Batch 400/680 | Loss: 0.0168\n",
      "Epoch: 019/025 | Batch 450/680 | Loss: 0.0073\n",
      "Epoch: 019/025 | Batch 500/680 | Loss: 0.0080\n",
      "Epoch: 019/025 | Batch 550/680 | Loss: 0.0022\n",
      "Epoch: 019/025 | Batch 600/680 | Loss: 0.0808\n",
      "Epoch: 019/025 | Batch 650/680 | Loss: 0.0004\n",
      "training accuracy: 99.82%\n",
      "valid accuracy: 88.57%\n",
      "Time elapsed: 4.13 min\n",
      "Epoch: 020/025 | Batch 000/680 | Loss: 0.0005\n",
      "Epoch: 020/025 | Batch 050/680 | Loss: 0.0014\n",
      "Epoch: 020/025 | Batch 100/680 | Loss: 0.0032\n",
      "Epoch: 020/025 | Batch 150/680 | Loss: 0.0224\n",
      "Epoch: 020/025 | Batch 200/680 | Loss: 0.0013\n",
      "Epoch: 020/025 | Batch 250/680 | Loss: 0.0002\n",
      "Epoch: 020/025 | Batch 300/680 | Loss: 0.0001\n",
      "Epoch: 020/025 | Batch 350/680 | Loss: 0.0001\n",
      "Epoch: 020/025 | Batch 400/680 | Loss: 0.0002\n",
      "Epoch: 020/025 | Batch 450/680 | Loss: 0.1181\n",
      "Epoch: 020/025 | Batch 500/680 | Loss: 0.0015\n",
      "Epoch: 020/025 | Batch 550/680 | Loss: 0.0087\n",
      "Epoch: 020/025 | Batch 600/680 | Loss: 0.0002\n",
      "Epoch: 020/025 | Batch 650/680 | Loss: 0.0026\n",
      "training accuracy: 99.86%\n",
      "valid accuracy: 88.37%\n",
      "Time elapsed: 4.35 min\n",
      "Epoch: 021/025 | Batch 000/680 | Loss: 0.0005\n",
      "Epoch: 021/025 | Batch 050/680 | Loss: 0.0004\n",
      "Epoch: 021/025 | Batch 100/680 | Loss: 0.0007\n",
      "Epoch: 021/025 | Batch 150/680 | Loss: 0.0004\n",
      "Epoch: 021/025 | Batch 200/680 | Loss: 0.0003\n",
      "Epoch: 021/025 | Batch 250/680 | Loss: 0.0001\n",
      "Epoch: 021/025 | Batch 300/680 | Loss: 0.0004\n",
      "Epoch: 021/025 | Batch 350/680 | Loss: 0.0001\n",
      "Epoch: 021/025 | Batch 400/680 | Loss: 0.0042\n",
      "Epoch: 021/025 | Batch 450/680 | Loss: 0.0174\n",
      "Epoch: 021/025 | Batch 500/680 | Loss: 0.0119\n",
      "Epoch: 021/025 | Batch 550/680 | Loss: 0.0001\n",
      "Epoch: 021/025 | Batch 600/680 | Loss: 0.0000\n",
      "Epoch: 021/025 | Batch 650/680 | Loss: 0.0004\n",
      "training accuracy: 99.92%\n",
      "valid accuracy: 88.58%\n",
      "Time elapsed: 4.56 min\n",
      "Epoch: 022/025 | Batch 000/680 | Loss: 0.0002\n",
      "Epoch: 022/025 | Batch 050/680 | Loss: 0.0009\n",
      "Epoch: 022/025 | Batch 100/680 | Loss: 0.0001\n",
      "Epoch: 022/025 | Batch 150/680 | Loss: 0.0004\n",
      "Epoch: 022/025 | Batch 200/680 | Loss: 0.0006\n",
      "Epoch: 022/025 | Batch 250/680 | Loss: 0.0002\n",
      "Epoch: 022/025 | Batch 300/680 | Loss: 0.0001\n",
      "Epoch: 022/025 | Batch 350/680 | Loss: 0.0001\n",
      "Epoch: 022/025 | Batch 400/680 | Loss: 0.0002\n",
      "Epoch: 022/025 | Batch 450/680 | Loss: 0.2063\n",
      "Epoch: 022/025 | Batch 500/680 | Loss: 0.1061\n",
      "Epoch: 022/025 | Batch 550/680 | Loss: 0.0003\n",
      "Epoch: 022/025 | Batch 600/680 | Loss: 0.0006\n",
      "Epoch: 022/025 | Batch 650/680 | Loss: 0.0064\n",
      "training accuracy: 99.96%\n",
      "valid accuracy: 88.82%\n",
      "Time elapsed: 4.78 min\n",
      "Epoch: 023/025 | Batch 000/680 | Loss: 0.0004\n",
      "Epoch: 023/025 | Batch 050/680 | Loss: 0.0012\n",
      "Epoch: 023/025 | Batch 100/680 | Loss: 0.0001\n",
      "Epoch: 023/025 | Batch 150/680 | Loss: 0.0078\n",
      "Epoch: 023/025 | Batch 200/680 | Loss: 0.0002\n",
      "Epoch: 023/025 | Batch 250/680 | Loss: 0.0015\n",
      "Epoch: 023/025 | Batch 300/680 | Loss: 0.0028\n",
      "Epoch: 023/025 | Batch 350/680 | Loss: 0.0004\n",
      "Epoch: 023/025 | Batch 400/680 | Loss: 0.0011\n",
      "Epoch: 023/025 | Batch 450/680 | Loss: 0.0016\n",
      "Epoch: 023/025 | Batch 500/680 | Loss: 0.0036\n",
      "Epoch: 023/025 | Batch 550/680 | Loss: 0.0017\n",
      "Epoch: 023/025 | Batch 600/680 | Loss: 0.0005\n",
      "Epoch: 023/025 | Batch 650/680 | Loss: 0.0036\n",
      "training accuracy: 99.34%\n",
      "valid accuracy: 87.50%\n",
      "Time elapsed: 5.00 min\n",
      "Epoch: 024/025 | Batch 000/680 | Loss: 0.0026\n",
      "Epoch: 024/025 | Batch 050/680 | Loss: 0.0017\n",
      "Epoch: 024/025 | Batch 100/680 | Loss: 0.0002\n",
      "Epoch: 024/025 | Batch 150/680 | Loss: 0.0005\n",
      "Epoch: 024/025 | Batch 200/680 | Loss: 0.0003\n",
      "Epoch: 024/025 | Batch 250/680 | Loss: 0.0007\n",
      "Epoch: 024/025 | Batch 300/680 | Loss: 0.0001\n",
      "Epoch: 024/025 | Batch 350/680 | Loss: 0.0077\n",
      "Epoch: 024/025 | Batch 400/680 | Loss: 0.0001\n",
      "Epoch: 024/025 | Batch 450/680 | Loss: 0.0003\n",
      "Epoch: 024/025 | Batch 500/680 | Loss: 0.0017\n",
      "Epoch: 024/025 | Batch 550/680 | Loss: 0.0006\n",
      "Epoch: 024/025 | Batch 600/680 | Loss: 0.0021\n",
      "Epoch: 024/025 | Batch 650/680 | Loss: 0.0188\n",
      "training accuracy: 99.96%\n",
      "valid accuracy: 88.72%\n",
      "Time elapsed: 5.21 min\n",
      "Epoch: 025/025 | Batch 000/680 | Loss: 0.0095\n",
      "Epoch: 025/025 | Batch 050/680 | Loss: 0.0001\n",
      "Epoch: 025/025 | Batch 100/680 | Loss: 0.0001\n",
      "Epoch: 025/025 | Batch 150/680 | Loss: 0.0003\n",
      "Epoch: 025/025 | Batch 200/680 | Loss: 0.0028\n",
      "Epoch: 025/025 | Batch 250/680 | Loss: 0.0007\n",
      "Epoch: 025/025 | Batch 300/680 | Loss: 0.0002\n",
      "Epoch: 025/025 | Batch 350/680 | Loss: 0.0003\n",
      "Epoch: 025/025 | Batch 400/680 | Loss: 0.0001\n",
      "Epoch: 025/025 | Batch 450/680 | Loss: 0.0002\n",
      "Epoch: 025/025 | Batch 500/680 | Loss: 0.0001\n",
      "Epoch: 025/025 | Batch 550/680 | Loss: 0.0002\n",
      "Epoch: 025/025 | Batch 600/680 | Loss: 0.0005\n",
      "Epoch: 025/025 | Batch 650/680 | Loss: 0.0001\n",
      "training accuracy: 99.98%\n",
      "valid accuracy: 88.50%\n",
      "Time elapsed: 5.43 min\n",
      "Total Training Time: 5.43 min\n",
      "Test accuracy: 88.99%\n"
     ]
    }
   ],
   "source": [
    "start_time = time.time()\n",
    "\n",
    "for epoch in range(NUM_EPOCHS):\n",
    "    model.train()\n",
    "    for batch_idx, batch_data in enumerate(train_loader):\n",
    "        text = batch_data.TEXT_COLUMN_NAME.to(DEVICE)\n",
    "        labels = batch_data.LABEL_COLUMN_NAME.to(DEVICE)\n",
    "\n",
    "        ### FORWARD AND BACK PROP\n",
    "        model.zero_grad()\n",
    "        output = model(text)\n",
    "        loss = loss_fn(output, labels)\n",
    "        loss.backward()\n",
    "\n",
    "        ### UPDATE MODEL PARAMETERS\n",
    "        optimizer.step()\n",
    "        \n",
    "        ### LOGGING\n",
    "        if not batch_idx % 50:\n",
    "            print (f'Epoch: {epoch+1:03d}/{NUM_EPOCHS:03d} | '\n",
    "                   f'Batch {batch_idx:03d}/{len(train_loader):03d} | '\n",
    "                   f'Loss: {loss:.4f}')\n",
    "\n",
    "    with torch.set_grad_enabled(False):\n",
    "        print(f'training accuracy: '\n",
    "              f'{compute_accuracy(model, train_loader, DEVICE):.2f}%'\n",
    "              f'\\nvalid accuracy: '\n",
    "              f'{compute_accuracy(model, valid_loader, DEVICE):.2f}%')\n",
    "        \n",
    "    print(f'Time elapsed: {(time.time() - start_time)/60:.2f} min')\n",
    "    \n",
    "print(f'Total Training Time: {(time.time() - start_time)/60:.2f} min')\n",
    "print(f'Test accuracy: {compute_accuracy(model, test_loader, DEVICE):.2f}%')"
   ]
  },
  {
   "cell_type": "markdown",
   "metadata": {},
   "source": [
    "# Model Testing"
   ]
  },
  {
   "cell_type": "code",
   "execution_count": 53,
   "metadata": {
    "execution": {
     "iopub.execute_input": "2022-01-22T16:41:22.981494Z",
     "iopub.status.busy": "2022-01-22T16:41:22.981224Z",
     "iopub.status.idle": "2022-01-22T16:41:23.185798Z",
     "shell.execute_reply": "2022-01-22T16:41:23.185126Z",
     "shell.execute_reply.started": "2022-01-22T16:41:22.981459Z"
    }
   },
   "outputs": [
    {
     "name": "stdout",
     "output_type": "stream",
     "text": [
      "Probability positive:\n"
     ]
    },
    {
     "data": {
      "text/plain": [
       "0.999997615814209"
      ]
     },
     "execution_count": 53,
     "metadata": {},
     "output_type": "execute_result"
    }
   ],
   "source": [
    "import spacy\n",
    "\n",
    "\n",
    "nlp = spacy.blank(\"en\")\n",
    "\n",
    "def predict_sentiment(model, sentence):\n",
    "\n",
    "    model.eval()\n",
    "    tokenized = [tok.text for tok in nlp.tokenizer(sentence)]\n",
    "    indexed = [TEXT.vocab.stoi[t] for t in tokenized]\n",
    "    length = [len(indexed)]\n",
    "    tensor = torch.LongTensor(indexed).to(DEVICE)\n",
    "    tensor = tensor.unsqueeze(1)\n",
    "    length_tensor = torch.LongTensor(length)\n",
    "    prediction = torch.nn.functional.softmax(model(tensor), dim=1)\n",
    "    return prediction[0][1].item()\n",
    "\n",
    "print('Probability positive:')\n",
    "predict_sentiment(model, \"This is such an awesome movie, I really love it!\")"
   ]
  },
  {
   "cell_type": "code",
   "execution_count": 54,
   "metadata": {
    "execution": {
     "iopub.execute_input": "2022-01-22T16:41:49.753493Z",
     "iopub.status.busy": "2022-01-22T16:41:49.752937Z",
     "iopub.status.idle": "2022-01-22T16:41:49.762087Z",
     "shell.execute_reply": "2022-01-22T16:41:49.761053Z",
     "shell.execute_reply.started": "2022-01-22T16:41:49.753453Z"
    }
   },
   "outputs": [
    {
     "name": "stdout",
     "output_type": "stream",
     "text": [
      "Probability positive:\n"
     ]
    },
    {
     "data": {
      "text/plain": [
       "3.919917162420461e-06"
      ]
     },
     "execution_count": 54,
     "metadata": {},
     "output_type": "execute_result"
    }
   ],
   "source": [
    "print('Probability positive:')\n",
    "predict_sentiment(model, \"I really hate this movie. It is really bad and sucks!\")"
   ]
  },
  {
   "cell_type": "code",
   "execution_count": 62,
   "metadata": {},
   "outputs": [
    {
     "name": "stdout",
     "output_type": "stream",
     "text": [
      "Let's see...\n"
     ]
    },
    {
     "data": {
      "text/plain": [
       "0.034998420625925064"
      ]
     },
     "execution_count": 62,
     "metadata": {},
     "output_type": "execute_result"
    }
   ],
   "source": [
    "print(\"Let's see...\")\n",
    "predict_sentiment(model, \"My only problem is that I haven't seen it sooner!\")"
   ]
  },
  {
   "cell_type": "code",
   "execution_count": null,
   "metadata": {},
   "outputs": [],
   "source": []
  }
 ],
 "metadata": {
  "kernelspec": {
   "display_name": "Python 3 (ipykernel)",
   "language": "python",
   "name": "python3"
  },
  "language_info": {
   "codemirror_mode": {
    "name": "ipython",
    "version": 3
   },
   "file_extension": ".py",
   "mimetype": "text/x-python",
   "name": "python",
   "nbconvert_exporter": "python",
   "pygments_lexer": "ipython3",
   "version": "3.9.12"
  }
 },
 "nbformat": 4,
 "nbformat_minor": 4
}
